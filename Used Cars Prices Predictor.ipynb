{
 "cells": [
  {
   "cell_type": "markdown",
   "metadata": {},
   "source": [
    "#                           Used Cars Prices Prediction"
   ]
  },
  {
   "cell_type": "markdown",
   "metadata": {},
   "source": [
    "In this project,I will try to predict the prices at which used cars can be sold by using dataset from Kaggle .I will first explore features in dataset and perform data visualization and data preprocessing and then train a machine learning model to predict prices"
   ]
  },
  {
   "cell_type": "markdown",
   "metadata": {},
   "source": [
    "# Import Libraries"
   ]
  },
  {
   "cell_type": "code",
   "execution_count": 1,
   "metadata": {},
   "outputs": [],
   "source": [
    "import numpy as np\n",
    "import pandas as pd\n",
    "\n",
    "import matplotlib.pyplot as plt\n",
    "import seaborn as sns\n",
    "%matplotlib inline"
   ]
  },
  {
   "cell_type": "code",
   "execution_count": 2,
   "metadata": {},
   "outputs": [],
   "source": [
    "# read dataset and store it in pandas dataframe named cars_dataset\n",
    "cars_dataset=pd.read_csv('vehicles.csv')"
   ]
  },
  {
   "cell_type": "code",
   "execution_count": 3,
   "metadata": {
    "scrolled": true
   },
   "outputs": [
    {
     "data": {
      "text/plain": [
       "(435849, 25)"
      ]
     },
     "execution_count": 3,
     "metadata": {},
     "output_type": "execute_result"
    }
   ],
   "source": [
    "#getting idea about dataset information\n",
    "cars_dataset.shape\n"
   ]
  },
  {
   "cell_type": "code",
   "execution_count": 4,
   "metadata": {},
   "outputs": [
    {
     "data": {
      "text/html": [
       "<div>\n",
       "<style scoped>\n",
       "    .dataframe tbody tr th:only-of-type {\n",
       "        vertical-align: middle;\n",
       "    }\n",
       "\n",
       "    .dataframe tbody tr th {\n",
       "        vertical-align: top;\n",
       "    }\n",
       "\n",
       "    .dataframe thead th {\n",
       "        text-align: right;\n",
       "    }\n",
       "</style>\n",
       "<table border=\"1\" class=\"dataframe\">\n",
       "  <thead>\n",
       "    <tr style=\"text-align: right;\">\n",
       "      <th></th>\n",
       "      <th>id</th>\n",
       "      <th>url</th>\n",
       "      <th>region</th>\n",
       "      <th>region_url</th>\n",
       "      <th>price</th>\n",
       "      <th>year</th>\n",
       "      <th>manufacturer</th>\n",
       "      <th>model</th>\n",
       "      <th>condition</th>\n",
       "      <th>cylinders</th>\n",
       "      <th>...</th>\n",
       "      <th>drive</th>\n",
       "      <th>size</th>\n",
       "      <th>type</th>\n",
       "      <th>paint_color</th>\n",
       "      <th>image_url</th>\n",
       "      <th>description</th>\n",
       "      <th>county</th>\n",
       "      <th>state</th>\n",
       "      <th>lat</th>\n",
       "      <th>long</th>\n",
       "    </tr>\n",
       "  </thead>\n",
       "  <tbody>\n",
       "    <tr>\n",
       "      <th>0</th>\n",
       "      <td>7119256118</td>\n",
       "      <td>https://mohave.craigslist.org/ctd/d/lake-havas...</td>\n",
       "      <td>mohave county</td>\n",
       "      <td>https://mohave.craigslist.org</td>\n",
       "      <td>3495</td>\n",
       "      <td>2012.0</td>\n",
       "      <td>jeep</td>\n",
       "      <td>patriot</td>\n",
       "      <td>like new</td>\n",
       "      <td>4 cylinders</td>\n",
       "      <td>...</td>\n",
       "      <td>NaN</td>\n",
       "      <td>NaN</td>\n",
       "      <td>NaN</td>\n",
       "      <td>silver</td>\n",
       "      <td>https://images.craigslist.org/00B0B_k2AXIJ21ok...</td>\n",
       "      <td>THIS 2012 JEEP PATRIOT IS A 4CYL. AC, STEREO, ...</td>\n",
       "      <td>NaN</td>\n",
       "      <td>az</td>\n",
       "      <td>34.4554</td>\n",
       "      <td>-114.2690</td>\n",
       "    </tr>\n",
       "    <tr>\n",
       "      <th>1</th>\n",
       "      <td>7120880186</td>\n",
       "      <td>https://oregoncoast.craigslist.org/cto/d/warre...</td>\n",
       "      <td>oregon coast</td>\n",
       "      <td>https://oregoncoast.craigslist.org</td>\n",
       "      <td>13750</td>\n",
       "      <td>2014.0</td>\n",
       "      <td>bmw</td>\n",
       "      <td>328i m-sport</td>\n",
       "      <td>good</td>\n",
       "      <td>NaN</td>\n",
       "      <td>...</td>\n",
       "      <td>rwd</td>\n",
       "      <td>NaN</td>\n",
       "      <td>sedan</td>\n",
       "      <td>grey</td>\n",
       "      <td>https://images.craigslist.org/00U0U_3cLk0WGOJ8...</td>\n",
       "      <td>Selling my 2014 BMW 328i with the following be...</td>\n",
       "      <td>NaN</td>\n",
       "      <td>or</td>\n",
       "      <td>46.1837</td>\n",
       "      <td>-123.8240</td>\n",
       "    </tr>\n",
       "    <tr>\n",
       "      <th>2</th>\n",
       "      <td>7115048251</td>\n",
       "      <td>https://greenville.craigslist.org/cto/d/sparta...</td>\n",
       "      <td>greenville / upstate</td>\n",
       "      <td>https://greenville.craigslist.org</td>\n",
       "      <td>2300</td>\n",
       "      <td>2001.0</td>\n",
       "      <td>dodge</td>\n",
       "      <td>caravan</td>\n",
       "      <td>excellent</td>\n",
       "      <td>6 cylinders</td>\n",
       "      <td>...</td>\n",
       "      <td>NaN</td>\n",
       "      <td>NaN</td>\n",
       "      <td>NaN</td>\n",
       "      <td>NaN</td>\n",
       "      <td>https://images.craigslist.org/00k0k_t4WqYn5nDC...</td>\n",
       "      <td>01 DODGE CARAVAN,3.3 ENGINE,AUT TRANS,199000 M...</td>\n",
       "      <td>NaN</td>\n",
       "      <td>sc</td>\n",
       "      <td>34.9352</td>\n",
       "      <td>-81.9654</td>\n",
       "    </tr>\n",
       "    <tr>\n",
       "      <th>3</th>\n",
       "      <td>7119250502</td>\n",
       "      <td>https://mohave.craigslist.org/cto/d/lake-havas...</td>\n",
       "      <td>mohave county</td>\n",
       "      <td>https://mohave.craigslist.org</td>\n",
       "      <td>9000</td>\n",
       "      <td>2004.0</td>\n",
       "      <td>chevrolet</td>\n",
       "      <td>colorado ls</td>\n",
       "      <td>excellent</td>\n",
       "      <td>5 cylinders</td>\n",
       "      <td>...</td>\n",
       "      <td>rwd</td>\n",
       "      <td>mid-size</td>\n",
       "      <td>pickup</td>\n",
       "      <td>red</td>\n",
       "      <td>https://images.craigslist.org/00J0J_lJEzfeVLHI...</td>\n",
       "      <td>2004 Chevy Colorado LS, ONLY 54000 ORIGINAL MI...</td>\n",
       "      <td>NaN</td>\n",
       "      <td>az</td>\n",
       "      <td>34.4783</td>\n",
       "      <td>-114.2710</td>\n",
       "    </tr>\n",
       "    <tr>\n",
       "      <th>4</th>\n",
       "      <td>7120433904</td>\n",
       "      <td>https://maine.craigslist.org/ctd/d/searsport-t...</td>\n",
       "      <td>maine</td>\n",
       "      <td>https://maine.craigslist.org</td>\n",
       "      <td>0</td>\n",
       "      <td>2021.0</td>\n",
       "      <td>NaN</td>\n",
       "      <td>Honda-Nissan-Kia-Ford-Hyundai-VW</td>\n",
       "      <td>NaN</td>\n",
       "      <td>NaN</td>\n",
       "      <td>...</td>\n",
       "      <td>NaN</td>\n",
       "      <td>NaN</td>\n",
       "      <td>NaN</td>\n",
       "      <td>NaN</td>\n",
       "      <td>https://images.craigslist.org/01010_j0IW34mCsm...</td>\n",
       "      <td>CALL: 207.548.6500 TEXT: 207.407.5598  **WE FI...</td>\n",
       "      <td>NaN</td>\n",
       "      <td>me</td>\n",
       "      <td>44.4699</td>\n",
       "      <td>-68.8963</td>\n",
       "    </tr>\n",
       "    <tr>\n",
       "      <th>5</th>\n",
       "      <td>7120432569</td>\n",
       "      <td>https://maine.craigslist.org/ctd/d/bad-credit-...</td>\n",
       "      <td>maine</td>\n",
       "      <td>https://maine.craigslist.org</td>\n",
       "      <td>500</td>\n",
       "      <td>2010.0</td>\n",
       "      <td>NaN</td>\n",
       "      <td>$500 DOWN PROGRAMS!!!</td>\n",
       "      <td>NaN</td>\n",
       "      <td>NaN</td>\n",
       "      <td>...</td>\n",
       "      <td>NaN</td>\n",
       "      <td>NaN</td>\n",
       "      <td>NaN</td>\n",
       "      <td>NaN</td>\n",
       "      <td>https://images.craigslist.org/01010_7qTZ8KZK03...</td>\n",
       "      <td>☛WE have 100's OF VEHICLES to choose from! CAL...</td>\n",
       "      <td>NaN</td>\n",
       "      <td>me</td>\n",
       "      <td>42.8424</td>\n",
       "      <td>-71.1077</td>\n",
       "    </tr>\n",
       "    <tr>\n",
       "      <th>6</th>\n",
       "      <td>7120431378</td>\n",
       "      <td>https://maine.craigslist.org/ctd/d/salem-nh-ma...</td>\n",
       "      <td>maine</td>\n",
       "      <td>https://maine.craigslist.org</td>\n",
       "      <td>0</td>\n",
       "      <td>2014.0</td>\n",
       "      <td>ford</td>\n",
       "      <td>f-150</td>\n",
       "      <td>excellent</td>\n",
       "      <td>8 cylinders</td>\n",
       "      <td>...</td>\n",
       "      <td>4wd</td>\n",
       "      <td>full-size</td>\n",
       "      <td>pickup</td>\n",
       "      <td>NaN</td>\n",
       "      <td>https://images.craigslist.org/00101_fYKNQQmCfw...</td>\n",
       "      <td>2014 *** Ford F-150_ F150_ f150_ F 150_ 4X4 CR...</td>\n",
       "      <td>NaN</td>\n",
       "      <td>me</td>\n",
       "      <td>42.7663</td>\n",
       "      <td>-71.2352</td>\n",
       "    </tr>\n",
       "    <tr>\n",
       "      <th>7</th>\n",
       "      <td>7120430837</td>\n",
       "      <td>https://maine.craigslist.org/cto/d/gardiner-20...</td>\n",
       "      <td>maine</td>\n",
       "      <td>https://maine.craigslist.org</td>\n",
       "      <td>8500</td>\n",
       "      <td>2005.0</td>\n",
       "      <td>ford</td>\n",
       "      <td>mustang convertible</td>\n",
       "      <td>excellent</td>\n",
       "      <td>6 cylinders</td>\n",
       "      <td>...</td>\n",
       "      <td>rwd</td>\n",
       "      <td>mid-size</td>\n",
       "      <td>convertible</td>\n",
       "      <td>silver</td>\n",
       "      <td>https://images.craigslist.org/00Y0Y_48vTuTqSFD...</td>\n",
       "      <td>2005 Ford Mustang Premium Convertible First ye...</td>\n",
       "      <td>NaN</td>\n",
       "      <td>me</td>\n",
       "      <td>44.2070</td>\n",
       "      <td>-69.7858</td>\n",
       "    </tr>\n",
       "    <tr>\n",
       "      <th>8</th>\n",
       "      <td>7120857037</td>\n",
       "      <td>https://oregoncoast.craigslist.org/ctd/d/portl...</td>\n",
       "      <td>oregon coast</td>\n",
       "      <td>https://oregoncoast.craigslist.org</td>\n",
       "      <td>0</td>\n",
       "      <td>2012.0</td>\n",
       "      <td>ram</td>\n",
       "      <td>3500</td>\n",
       "      <td>NaN</td>\n",
       "      <td>6 cylinders</td>\n",
       "      <td>...</td>\n",
       "      <td>4wd</td>\n",
       "      <td>NaN</td>\n",
       "      <td>truck</td>\n",
       "      <td>NaN</td>\n",
       "      <td>https://images.craigslist.org/00D0D_gtnHVPZnov...</td>\n",
       "      <td>Sunrise Auto SalesTry our Delivery Service , N...</td>\n",
       "      <td>NaN</td>\n",
       "      <td>or</td>\n",
       "      <td>45.4072</td>\n",
       "      <td>-122.6250</td>\n",
       "    </tr>\n",
       "    <tr>\n",
       "      <th>9</th>\n",
       "      <td>7120844862</td>\n",
       "      <td>https://oregoncoast.craigslist.org/ctd/d/portl...</td>\n",
       "      <td>oregon coast</td>\n",
       "      <td>https://oregoncoast.craigslist.org</td>\n",
       "      <td>5950</td>\n",
       "      <td>2004.0</td>\n",
       "      <td>honda</td>\n",
       "      <td>odyssey ex-l, reliable, e</td>\n",
       "      <td>NaN</td>\n",
       "      <td>6 cylinders</td>\n",
       "      <td>...</td>\n",
       "      <td>fwd</td>\n",
       "      <td>NaN</td>\n",
       "      <td>van</td>\n",
       "      <td>NaN</td>\n",
       "      <td>https://images.craigslist.org/00x0x_kNAp2VsmxY...</td>\n",
       "      <td>D&amp;M Motors LLC        STOCK #:  R012679       ...</td>\n",
       "      <td>NaN</td>\n",
       "      <td>or</td>\n",
       "      <td>45.5772</td>\n",
       "      <td>-122.6760</td>\n",
       "    </tr>\n",
       "  </tbody>\n",
       "</table>\n",
       "<p>10 rows × 25 columns</p>\n",
       "</div>"
      ],
      "text/plain": [
       "           id                                                url  \\\n",
       "0  7119256118  https://mohave.craigslist.org/ctd/d/lake-havas...   \n",
       "1  7120880186  https://oregoncoast.craigslist.org/cto/d/warre...   \n",
       "2  7115048251  https://greenville.craigslist.org/cto/d/sparta...   \n",
       "3  7119250502  https://mohave.craigslist.org/cto/d/lake-havas...   \n",
       "4  7120433904  https://maine.craigslist.org/ctd/d/searsport-t...   \n",
       "5  7120432569  https://maine.craigslist.org/ctd/d/bad-credit-...   \n",
       "6  7120431378  https://maine.craigslist.org/ctd/d/salem-nh-ma...   \n",
       "7  7120430837  https://maine.craigslist.org/cto/d/gardiner-20...   \n",
       "8  7120857037  https://oregoncoast.craigslist.org/ctd/d/portl...   \n",
       "9  7120844862  https://oregoncoast.craigslist.org/ctd/d/portl...   \n",
       "\n",
       "                 region                          region_url  price    year  \\\n",
       "0         mohave county       https://mohave.craigslist.org   3495  2012.0   \n",
       "1          oregon coast  https://oregoncoast.craigslist.org  13750  2014.0   \n",
       "2  greenville / upstate   https://greenville.craigslist.org   2300  2001.0   \n",
       "3         mohave county       https://mohave.craigslist.org   9000  2004.0   \n",
       "4                 maine        https://maine.craigslist.org      0  2021.0   \n",
       "5                 maine        https://maine.craigslist.org    500  2010.0   \n",
       "6                 maine        https://maine.craigslist.org      0  2014.0   \n",
       "7                 maine        https://maine.craigslist.org   8500  2005.0   \n",
       "8          oregon coast  https://oregoncoast.craigslist.org      0  2012.0   \n",
       "9          oregon coast  https://oregoncoast.craigslist.org   5950  2004.0   \n",
       "\n",
       "  manufacturer                             model  condition    cylinders  ...  \\\n",
       "0         jeep                           patriot   like new  4 cylinders  ...   \n",
       "1          bmw                      328i m-sport       good          NaN  ...   \n",
       "2        dodge                           caravan  excellent  6 cylinders  ...   \n",
       "3    chevrolet                       colorado ls  excellent  5 cylinders  ...   \n",
       "4          NaN  Honda-Nissan-Kia-Ford-Hyundai-VW        NaN          NaN  ...   \n",
       "5          NaN             $500 DOWN PROGRAMS!!!        NaN          NaN  ...   \n",
       "6         ford                             f-150  excellent  8 cylinders  ...   \n",
       "7         ford               mustang convertible  excellent  6 cylinders  ...   \n",
       "8          ram                              3500        NaN  6 cylinders  ...   \n",
       "9        honda         odyssey ex-l, reliable, e        NaN  6 cylinders  ...   \n",
       "\n",
       "  drive       size         type paint_color  \\\n",
       "0   NaN        NaN          NaN      silver   \n",
       "1   rwd        NaN        sedan        grey   \n",
       "2   NaN        NaN          NaN         NaN   \n",
       "3   rwd   mid-size       pickup         red   \n",
       "4   NaN        NaN          NaN         NaN   \n",
       "5   NaN        NaN          NaN         NaN   \n",
       "6   4wd  full-size       pickup         NaN   \n",
       "7   rwd   mid-size  convertible      silver   \n",
       "8   4wd        NaN        truck         NaN   \n",
       "9   fwd        NaN          van         NaN   \n",
       "\n",
       "                                           image_url  \\\n",
       "0  https://images.craigslist.org/00B0B_k2AXIJ21ok...   \n",
       "1  https://images.craigslist.org/00U0U_3cLk0WGOJ8...   \n",
       "2  https://images.craigslist.org/00k0k_t4WqYn5nDC...   \n",
       "3  https://images.craigslist.org/00J0J_lJEzfeVLHI...   \n",
       "4  https://images.craigslist.org/01010_j0IW34mCsm...   \n",
       "5  https://images.craigslist.org/01010_7qTZ8KZK03...   \n",
       "6  https://images.craigslist.org/00101_fYKNQQmCfw...   \n",
       "7  https://images.craigslist.org/00Y0Y_48vTuTqSFD...   \n",
       "8  https://images.craigslist.org/00D0D_gtnHVPZnov...   \n",
       "9  https://images.craigslist.org/00x0x_kNAp2VsmxY...   \n",
       "\n",
       "                                         description county state      lat  \\\n",
       "0  THIS 2012 JEEP PATRIOT IS A 4CYL. AC, STEREO, ...    NaN    az  34.4554   \n",
       "1  Selling my 2014 BMW 328i with the following be...    NaN    or  46.1837   \n",
       "2  01 DODGE CARAVAN,3.3 ENGINE,AUT TRANS,199000 M...    NaN    sc  34.9352   \n",
       "3  2004 Chevy Colorado LS, ONLY 54000 ORIGINAL MI...    NaN    az  34.4783   \n",
       "4  CALL: 207.548.6500 TEXT: 207.407.5598  **WE FI...    NaN    me  44.4699   \n",
       "5  ☛WE have 100's OF VEHICLES to choose from! CAL...    NaN    me  42.8424   \n",
       "6  2014 *** Ford F-150_ F150_ f150_ F 150_ 4X4 CR...    NaN    me  42.7663   \n",
       "7  2005 Ford Mustang Premium Convertible First ye...    NaN    me  44.2070   \n",
       "8  Sunrise Auto SalesTry our Delivery Service , N...    NaN    or  45.4072   \n",
       "9  D&M Motors LLC        STOCK #:  R012679       ...    NaN    or  45.5772   \n",
       "\n",
       "       long  \n",
       "0 -114.2690  \n",
       "1 -123.8240  \n",
       "2  -81.9654  \n",
       "3 -114.2710  \n",
       "4  -68.8963  \n",
       "5  -71.1077  \n",
       "6  -71.2352  \n",
       "7  -69.7858  \n",
       "8 -122.6250  \n",
       "9 -122.6760  \n",
       "\n",
       "[10 rows x 25 columns]"
      ]
     },
     "execution_count": 4,
     "metadata": {},
     "output_type": "execute_result"
    }
   ],
   "source": [
    "cars_dataset.head(10)"
   ]
  },
  {
   "cell_type": "code",
   "execution_count": 5,
   "metadata": {},
   "outputs": [
    {
     "data": {
      "text/plain": [
       "Index(['id', 'url', 'region', 'region_url', 'price', 'year', 'manufacturer',\n",
       "       'model', 'condition', 'cylinders', 'fuel', 'odometer', 'title_status',\n",
       "       'transmission', 'vin', 'drive', 'size', 'type', 'paint_color',\n",
       "       'image_url', 'description', 'county', 'state', 'lat', 'long'],\n",
       "      dtype='object')"
      ]
     },
     "execution_count": 5,
     "metadata": {},
     "output_type": "execute_result"
    }
   ],
   "source": [
    "# taking a look at all columns in dataset\n",
    "cars_dataset.columns"
   ]
  },
  {
   "cell_type": "markdown",
   "metadata": {},
   "source": [
    "# Exploratory Data Analysis"
   ]
  },
  {
   "cell_type": "markdown",
   "metadata": {},
   "source": [
    "I will explore features in dataset to try to understand how important a feature is to predict price and to get summary statistics"
   ]
  },
  {
   "cell_type": "markdown",
   "metadata": {},
   "source": [
    "<b>'id','url','region_url','image_url':</b>"
   ]
  },
  {
   "cell_type": "markdown",
   "metadata": {},
   "source": [
    "These are useless columns to predict prices.So I will just drop these columns"
   ]
  },
  {
   "cell_type": "code",
   "execution_count": 6,
   "metadata": {},
   "outputs": [],
   "source": [
    "cars_dataset=cars_dataset.drop(['id','url','region_url','image_url'],axis=1)"
   ]
  },
  {
   "cell_type": "markdown",
   "metadata": {},
   "source": [
    "<b>Getting an idea of numeric features and their averages:</b>"
   ]
  },
  {
   "cell_type": "code",
   "execution_count": 7,
   "metadata": {
    "scrolled": true
   },
   "outputs": [
    {
     "data": {
      "text/html": [
       "<div>\n",
       "<style scoped>\n",
       "    .dataframe tbody tr th:only-of-type {\n",
       "        vertical-align: middle;\n",
       "    }\n",
       "\n",
       "    .dataframe tbody tr th {\n",
       "        vertical-align: top;\n",
       "    }\n",
       "\n",
       "    .dataframe thead th {\n",
       "        text-align: right;\n",
       "    }\n",
       "</style>\n",
       "<table border=\"1\" class=\"dataframe\">\n",
       "  <thead>\n",
       "    <tr style=\"text-align: right;\">\n",
       "      <th></th>\n",
       "      <th>price</th>\n",
       "      <th>year</th>\n",
       "      <th>odometer</th>\n",
       "      <th>county</th>\n",
       "      <th>lat</th>\n",
       "      <th>long</th>\n",
       "    </tr>\n",
       "  </thead>\n",
       "  <tbody>\n",
       "    <tr>\n",
       "      <th>count</th>\n",
       "      <td>4.358490e+05</td>\n",
       "      <td>434732.000000</td>\n",
       "      <td>3.607010e+05</td>\n",
       "      <td>0.0</td>\n",
       "      <td>427614.000000</td>\n",
       "      <td>427614.000000</td>\n",
       "    </tr>\n",
       "    <tr>\n",
       "      <th>mean</th>\n",
       "      <td>1.349127e+05</td>\n",
       "      <td>2009.866460</td>\n",
       "      <td>9.897590e+04</td>\n",
       "      <td>NaN</td>\n",
       "      <td>38.404163</td>\n",
       "      <td>-94.961170</td>\n",
       "    </tr>\n",
       "    <tr>\n",
       "      <th>std</th>\n",
       "      <td>1.690857e+07</td>\n",
       "      <td>9.312503</td>\n",
       "      <td>1.134990e+05</td>\n",
       "      <td>NaN</td>\n",
       "      <td>6.036915</td>\n",
       "      <td>18.058561</td>\n",
       "    </tr>\n",
       "    <tr>\n",
       "      <th>min</th>\n",
       "      <td>0.000000e+00</td>\n",
       "      <td>1900.000000</td>\n",
       "      <td>0.000000e+00</td>\n",
       "      <td>NaN</td>\n",
       "      <td>-83.197100</td>\n",
       "      <td>-177.012000</td>\n",
       "    </tr>\n",
       "    <tr>\n",
       "      <th>25%</th>\n",
       "      <td>4.900000e+03</td>\n",
       "      <td>2007.000000</td>\n",
       "      <td>4.733300e+04</td>\n",
       "      <td>NaN</td>\n",
       "      <td>34.225700</td>\n",
       "      <td>-111.731000</td>\n",
       "    </tr>\n",
       "    <tr>\n",
       "      <th>50%</th>\n",
       "      <td>9.995000e+03</td>\n",
       "      <td>2012.000000</td>\n",
       "      <td>9.118800e+04</td>\n",
       "      <td>NaN</td>\n",
       "      <td>38.934800</td>\n",
       "      <td>-89.676700</td>\n",
       "    </tr>\n",
       "    <tr>\n",
       "      <th>75%</th>\n",
       "      <td>1.798900e+04</td>\n",
       "      <td>2015.000000</td>\n",
       "      <td>1.347360e+05</td>\n",
       "      <td>NaN</td>\n",
       "      <td>42.484500</td>\n",
       "      <td>-81.397300</td>\n",
       "    </tr>\n",
       "    <tr>\n",
       "      <th>max</th>\n",
       "      <td>3.647257e+09</td>\n",
       "      <td>2021.000000</td>\n",
       "      <td>1.000000e+07</td>\n",
       "      <td>NaN</td>\n",
       "      <td>79.601900</td>\n",
       "      <td>173.675000</td>\n",
       "    </tr>\n",
       "  </tbody>\n",
       "</table>\n",
       "</div>"
      ],
      "text/plain": [
       "              price           year      odometer  county            lat  \\\n",
       "count  4.358490e+05  434732.000000  3.607010e+05     0.0  427614.000000   \n",
       "mean   1.349127e+05    2009.866460  9.897590e+04     NaN      38.404163   \n",
       "std    1.690857e+07       9.312503  1.134990e+05     NaN       6.036915   \n",
       "min    0.000000e+00    1900.000000  0.000000e+00     NaN     -83.197100   \n",
       "25%    4.900000e+03    2007.000000  4.733300e+04     NaN      34.225700   \n",
       "50%    9.995000e+03    2012.000000  9.118800e+04     NaN      38.934800   \n",
       "75%    1.798900e+04    2015.000000  1.347360e+05     NaN      42.484500   \n",
       "max    3.647257e+09    2021.000000  1.000000e+07     NaN      79.601900   \n",
       "\n",
       "                long  \n",
       "count  427614.000000  \n",
       "mean      -94.961170  \n",
       "std        18.058561  \n",
       "min      -177.012000  \n",
       "25%      -111.731000  \n",
       "50%       -89.676700  \n",
       "75%       -81.397300  \n",
       "max       173.675000  "
      ]
     },
     "execution_count": 7,
     "metadata": {},
     "output_type": "execute_result"
    }
   ],
   "source": [
    "cars_dataset.describe()"
   ]
  },
  {
   "cell_type": "markdown",
   "metadata": {},
   "source": [
    "<b>Price:</b>This is the label we are trying to predict and let us see how prices are distributed by plotting it"
   ]
  },
  {
   "cell_type": "code",
   "execution_count": 8,
   "metadata": {
    "scrolled": false
   },
   "outputs": [
    {
     "data": {
      "text/plain": [
       "<matplotlib.axes._subplots.AxesSubplot at 0x1cec718f608>"
      ]
     },
     "execution_count": 8,
     "metadata": {},
     "output_type": "execute_result"
    },
    {
     "data": {
      "image/png": "[encoded data removed]",
      "text/plain": [
       "<Figure size 864x288 with 1 Axes>"
      ]
     },
     "metadata": {
      "needs_background": "light"
     },
     "output_type": "display_data"
    }
   ],
   "source": [
    "plt.figure(figsize=(12,4))\n",
    "sns.distplot(cars_dataset['price'])"
   ]
  },
  {
   "cell_type": "markdown",
   "metadata": {},
   "source": [
    "From the above plot,we can see that most of the cars are priced much lesser than very few costlier cars which will turn out to be outliers,if we want to predict for lesser price cars"
   ]
  },
  {
   "cell_type": "markdown",
   "metadata": {},
   "source": [
    "I will eliminate those highly priced cars and lower priced cars as they are outliers so that my model can predict well on lesser to mediun range price cars since most of the used cars belong to lesser prices.So my target is predicting lesser priced used cars "
   ]
  },
  {
   "cell_type": "code",
   "execution_count": 9,
   "metadata": {
    "scrolled": false
   },
   "outputs": [
    {
     "data": {
      "text/plain": [
       "66766     3647256576\n",
       "41214     3333333333\n",
       "146720    3268562261\n",
       "366552    2989542968\n",
       "343656    2989542968\n",
       "             ...    \n",
       "78197         100001\n",
       "169728        100000\n",
       "161089        100000\n",
       "81717         100000\n",
       "151931        100000\n",
       "Name: price, Length: 540, dtype: int64"
      ]
     },
     "execution_count": 9,
     "metadata": {},
     "output_type": "execute_result"
    }
   ],
   "source": [
    "cars_dataset['price'].sort_values(ascending=False).head(540)"
   ]
  },
  {
   "cell_type": "markdown",
   "metadata": {},
   "source": [
    "I will delete cars with prices over 100000$ ,which are roughly about 540 out of 435k cars, since they are outliers "
   ]
  },
  {
   "cell_type": "code",
   "execution_count": 10,
   "metadata": {},
   "outputs": [],
   "source": [
    "#removing top 540 priced used cars data\n",
    "cars_dataset=cars_dataset.sort_values('price',ascending=False).iloc[541:]"
   ]
  },
  {
   "cell_type": "markdown",
   "metadata": {},
   "source": [
    " I will delete prices with less than 1000$ since they deflect the model in predicting prices"
   ]
  },
  {
   "cell_type": "code",
   "execution_count": 11,
   "metadata": {},
   "outputs": [],
   "source": [
    "#removing cars priced lower than 1000$ since there are not many cars relative to dataset under 1000 and also these are outliers to data\n",
    "cars_dataset=cars_dataset[cars_dataset['price']>1000]"
   ]
  },
  {
   "cell_type": "code",
   "execution_count": 12,
   "metadata": {},
   "outputs": [
    {
     "data": {
      "text/plain": [
       "(391165, 21)"
      ]
     },
     "execution_count": 12,
     "metadata": {},
     "output_type": "execute_result"
    }
   ],
   "source": [
    "cars_dataset.shape"
   ]
  },
  {
   "cell_type": "markdown",
   "metadata": {},
   "source": [
    "<b>Correlation between features</b> </font>"
   ]
  },
  {
   "cell_type": "code",
   "execution_count": 13,
   "metadata": {},
   "outputs": [
    {
     "data": {
      "text/html": [
       "<div>\n",
       "<style scoped>\n",
       "    .dataframe tbody tr th:only-of-type {\n",
       "        vertical-align: middle;\n",
       "    }\n",
       "\n",
       "    .dataframe tbody tr th {\n",
       "        vertical-align: top;\n",
       "    }\n",
       "\n",
       "    .dataframe thead th {\n",
       "        text-align: right;\n",
       "    }\n",
       "</style>\n",
       "<table border=\"1\" class=\"dataframe\">\n",
       "  <thead>\n",
       "    <tr style=\"text-align: right;\">\n",
       "      <th></th>\n",
       "      <th>price</th>\n",
       "      <th>year</th>\n",
       "      <th>odometer</th>\n",
       "      <th>county</th>\n",
       "      <th>lat</th>\n",
       "      <th>long</th>\n",
       "    </tr>\n",
       "  </thead>\n",
       "  <tbody>\n",
       "    <tr>\n",
       "      <th>price</th>\n",
       "      <td>1.000000</td>\n",
       "      <td>0.285212</td>\n",
       "      <td>-0.250827</td>\n",
       "      <td>NaN</td>\n",
       "      <td>0.049069</td>\n",
       "      <td>-0.121996</td>\n",
       "    </tr>\n",
       "    <tr>\n",
       "      <th>year</th>\n",
       "      <td>0.285212</td>\n",
       "      <td>1.000000</td>\n",
       "      <td>-0.232631</td>\n",
       "      <td>NaN</td>\n",
       "      <td>0.002934</td>\n",
       "      <td>-0.029339</td>\n",
       "    </tr>\n",
       "    <tr>\n",
       "      <th>odometer</th>\n",
       "      <td>-0.250827</td>\n",
       "      <td>-0.232631</td>\n",
       "      <td>1.000000</td>\n",
       "      <td>NaN</td>\n",
       "      <td>-0.000086</td>\n",
       "      <td>0.040363</td>\n",
       "    </tr>\n",
       "    <tr>\n",
       "      <th>county</th>\n",
       "      <td>NaN</td>\n",
       "      <td>NaN</td>\n",
       "      <td>NaN</td>\n",
       "      <td>NaN</td>\n",
       "      <td>NaN</td>\n",
       "      <td>NaN</td>\n",
       "    </tr>\n",
       "    <tr>\n",
       "      <th>lat</th>\n",
       "      <td>0.049069</td>\n",
       "      <td>0.002934</td>\n",
       "      <td>-0.000086</td>\n",
       "      <td>NaN</td>\n",
       "      <td>1.000000</td>\n",
       "      <td>-0.170257</td>\n",
       "    </tr>\n",
       "    <tr>\n",
       "      <th>long</th>\n",
       "      <td>-0.121996</td>\n",
       "      <td>-0.029339</td>\n",
       "      <td>0.040363</td>\n",
       "      <td>NaN</td>\n",
       "      <td>-0.170257</td>\n",
       "      <td>1.000000</td>\n",
       "    </tr>\n",
       "  </tbody>\n",
       "</table>\n",
       "</div>"
      ],
      "text/plain": [
       "             price      year  odometer  county       lat      long\n",
       "price     1.000000  0.285212 -0.250827     NaN  0.049069 -0.121996\n",
       "year      0.285212  1.000000 -0.232631     NaN  0.002934 -0.029339\n",
       "odometer -0.250827 -0.232631  1.000000     NaN -0.000086  0.040363\n",
       "county         NaN       NaN       NaN     NaN       NaN       NaN\n",
       "lat       0.049069  0.002934 -0.000086     NaN  1.000000 -0.170257\n",
       "long     -0.121996 -0.029339  0.040363     NaN -0.170257  1.000000"
      ]
     },
     "execution_count": 13,
     "metadata": {},
     "output_type": "execute_result"
    }
   ],
   "source": [
    "cars_dataset.corr()"
   ]
  },
  {
   "cell_type": "code",
   "execution_count": 14,
   "metadata": {},
   "outputs": [
    {
     "data": {
      "text/plain": [
       "391165"
      ]
     },
     "execution_count": 14,
     "metadata": {},
     "output_type": "execute_result"
    }
   ],
   "source": [
    "cars_dataset['county'].isnull().sum()"
   ]
  },
  {
   "cell_type": "code",
   "execution_count": 15,
   "metadata": {},
   "outputs": [],
   "source": [
    "#dropping county column since they all are nulls\n",
    "cars_dataset.drop('county',axis=1,inplace=True)"
   ]
  },
  {
   "cell_type": "code",
   "execution_count": 16,
   "metadata": {},
   "outputs": [
    {
     "data": {
      "text/html": [
       "<div>\n",
       "<style scoped>\n",
       "    .dataframe tbody tr th:only-of-type {\n",
       "        vertical-align: middle;\n",
       "    }\n",
       "\n",
       "    .dataframe tbody tr th {\n",
       "        vertical-align: top;\n",
       "    }\n",
       "\n",
       "    .dataframe thead th {\n",
       "        text-align: right;\n",
       "    }\n",
       "</style>\n",
       "<table border=\"1\" class=\"dataframe\">\n",
       "  <thead>\n",
       "    <tr style=\"text-align: right;\">\n",
       "      <th></th>\n",
       "      <th>price</th>\n",
       "      <th>year</th>\n",
       "      <th>odometer</th>\n",
       "      <th>lat</th>\n",
       "      <th>long</th>\n",
       "    </tr>\n",
       "  </thead>\n",
       "  <tbody>\n",
       "    <tr>\n",
       "      <th>price</th>\n",
       "      <td>1.000000</td>\n",
       "      <td>0.285212</td>\n",
       "      <td>-0.250827</td>\n",
       "      <td>0.049069</td>\n",
       "      <td>-0.121996</td>\n",
       "    </tr>\n",
       "    <tr>\n",
       "      <th>year</th>\n",
       "      <td>0.285212</td>\n",
       "      <td>1.000000</td>\n",
       "      <td>-0.232631</td>\n",
       "      <td>0.002934</td>\n",
       "      <td>-0.029339</td>\n",
       "    </tr>\n",
       "    <tr>\n",
       "      <th>odometer</th>\n",
       "      <td>-0.250827</td>\n",
       "      <td>-0.232631</td>\n",
       "      <td>1.000000</td>\n",
       "      <td>-0.000086</td>\n",
       "      <td>0.040363</td>\n",
       "    </tr>\n",
       "    <tr>\n",
       "      <th>lat</th>\n",
       "      <td>0.049069</td>\n",
       "      <td>0.002934</td>\n",
       "      <td>-0.000086</td>\n",
       "      <td>1.000000</td>\n",
       "      <td>-0.170257</td>\n",
       "    </tr>\n",
       "    <tr>\n",
       "      <th>long</th>\n",
       "      <td>-0.121996</td>\n",
       "      <td>-0.029339</td>\n",
       "      <td>0.040363</td>\n",
       "      <td>-0.170257</td>\n",
       "      <td>1.000000</td>\n",
       "    </tr>\n",
       "  </tbody>\n",
       "</table>\n",
       "</div>"
      ],
      "text/plain": [
       "             price      year  odometer       lat      long\n",
       "price     1.000000  0.285212 -0.250827  0.049069 -0.121996\n",
       "year      0.285212  1.000000 -0.232631  0.002934 -0.029339\n",
       "odometer -0.250827 -0.232631  1.000000 -0.000086  0.040363\n",
       "lat       0.049069  0.002934 -0.000086  1.000000 -0.170257\n",
       "long     -0.121996 -0.029339  0.040363 -0.170257  1.000000"
      ]
     },
     "execution_count": 16,
     "metadata": {},
     "output_type": "execute_result"
    }
   ],
   "source": [
    "cars_dataset.corr()"
   ]
  },
  {
   "cell_type": "code",
   "execution_count": 17,
   "metadata": {},
   "outputs": [
    {
     "data": {
      "text/plain": [
       "odometer   -0.250827\n",
       "long       -0.121996\n",
       "lat         0.049069\n",
       "year        0.285212\n",
       "price       1.000000\n",
       "Name: price, dtype: float64"
      ]
     },
     "execution_count": 17,
     "metadata": {},
     "output_type": "execute_result"
    }
   ],
   "source": [
    "#finding correlation of features with price\n",
    "cars_dataset.corr()['price'].sort_values()"
   ]
  },
  {
   "cell_type": "markdown",
   "metadata": {},
   "source": [
    "<b>Distribution plot of price:</b>"
   ]
  },
  {
   "cell_type": "code",
   "execution_count": 18,
   "metadata": {},
   "outputs": [
    {
     "data": {
      "text/plain": [
       "<matplotlib.axes._subplots.AxesSubplot at 0x1cec99c7948>"
      ]
     },
     "execution_count": 18,
     "metadata": {},
     "output_type": "execute_result"
    },
    {
     "data": {
      "image/png": "[encoded data removed]",
      "text/plain": [
       "<Figure size 864x432 with 1 Axes>"
      ]
     },
     "metadata": {
      "needs_background": "light"
     },
     "output_type": "display_data"
    }
   ],
   "source": [
    "plt.figure(figsize=(12,6))\n",
    "sns.distplot(cars_dataset['price'])"
   ]
  },
  {
   "cell_type": "markdown",
   "metadata": {},
   "source": [
    "So,there is no feature which can highly correlate with price.Let's analyse geographical properties by plotting longitudes and latitudes to check if there is any area where used cars can be sold at higher prices,usually it doesn't matter much"
   ]
  },
  {
   "cell_type": "code",
   "execution_count": 19,
   "metadata": {},
   "outputs": [
    {
     "data": {
      "text/plain": [
       "<matplotlib.axes._subplots.AxesSubplot at 0x1cec87183c8>"
      ]
     },
     "execution_count": 19,
     "metadata": {},
     "output_type": "execute_result"
    },
    {
     "data": {
      "image/png": "[encoded data removed]",
      "text/plain": [
       "<Figure size 864x576 with 1 Axes>"
      ]
     },
     "metadata": {
      "needs_background": "light"
     },
     "output_type": "display_data"
    }
   ],
   "source": [
    "plt.figure(figsize=(12,8))\n",
    "sns.scatterplot(x='long',y='lat',data=cars_dataset,hue='price',palette='RdYlGn')"
   ]
  },
  {
   "cell_type": "markdown",
   "metadata": {},
   "source": [
    "Since location isn't really affecting prices,I will remove both region and state columns along with lat and long columns "
   ]
  },
  {
   "cell_type": "code",
   "execution_count": 20,
   "metadata": {},
   "outputs": [],
   "source": [
    "#drop those columns\n",
    "cars_dataset.drop(['lat','long','region','state'],axis=1,inplace=True)"
   ]
  },
  {
   "cell_type": "code",
   "execution_count": 21,
   "metadata": {},
   "outputs": [
    {
     "data": {
      "text/plain": [
       "Index(['price', 'year', 'manufacturer', 'model', 'condition', 'cylinders',\n",
       "       'fuel', 'odometer', 'title_status', 'transmission', 'vin', 'drive',\n",
       "       'size', 'type', 'paint_color', 'description'],\n",
       "      dtype='object')"
      ]
     },
     "execution_count": 21,
     "metadata": {},
     "output_type": "execute_result"
    }
   ],
   "source": [
    "#checking what columns are left in dataset\n",
    "cars_dataset.columns"
   ]
  },
  {
   "cell_type": "markdown",
   "metadata": {},
   "source": [
    "<b>Odometer:Let's plot Odometer vs prices</b>"
   ]
  },
  {
   "cell_type": "code",
   "execution_count": 22,
   "metadata": {},
   "outputs": [
    {
     "data": {
      "text/plain": [
       "<matplotlib.axes._subplots.AxesSubplot at 0x1cec88c2508>"
      ]
     },
     "execution_count": 22,
     "metadata": {},
     "output_type": "execute_result"
    },
    {
     "data": {
      "image/png": "[encoded data removed]",
      "text/plain": [
       "<Figure size 864x288 with 1 Axes>"
      ]
     },
     "metadata": {
      "needs_background": "light"
     },
     "output_type": "display_data"
    }
   ],
   "source": [
    "plt.figure(figsize=(12,4))\n",
    "sns.scatterplot(x='odometer',y='price',data=cars_dataset)"
   ]
  },
  {
   "cell_type": "markdown",
   "metadata": {},
   "source": [
    "From above plot,it makes sense as odometer value is high,we can expect the prices to go down but again there are cars which have very high odometer values and very low odometer values which are outliers.So I will try to eliminate those"
   ]
  },
  {
   "cell_type": "code",
   "execution_count": 23,
   "metadata": {},
   "outputs": [],
   "source": [
    "cars_dataset=cars_dataset[cars_dataset['odometer']>10000]"
   ]
  },
  {
   "cell_type": "code",
   "execution_count": 24,
   "metadata": {},
   "outputs": [],
   "source": [
    "#eliminating those outliers\n",
    "cars_dataset=cars_dataset[cars_dataset['odometer']<300000]"
   ]
  },
  {
   "cell_type": "code",
   "execution_count": 25,
   "metadata": {},
   "outputs": [
    {
     "data": {
      "text/plain": [
       "<matplotlib.axes._subplots.AxesSubplot at 0x1cec879eb48>"
      ]
     },
     "execution_count": 25,
     "metadata": {},
     "output_type": "execute_result"
    },
    {
     "data": {
      "image/png": "[encoded data removed]",
      "text/plain": [
       "<Figure size 864x288 with 1 Axes>"
      ]
     },
     "metadata": {
      "needs_background": "light"
     },
     "output_type": "display_data"
    }
   ],
   "source": [
    "plt.figure(figsize=(12,4))\n",
    "sns.scatterplot(x='odometer',y='price',data=cars_dataset)"
   ]
  },
  {
   "cell_type": "markdown",
   "metadata": {},
   "source": [
    "<b>Year:</b>I will see if there are any particular patterns in year-wise car prices"
   ]
  },
  {
   "cell_type": "code",
   "execution_count": 26,
   "metadata": {
    "scrolled": true
   },
   "outputs": [
    {
     "data": {
      "text/plain": [
       "<matplotlib.axes._subplots.AxesSubplot at 0x1cec7204488>"
      ]
     },
     "execution_count": 26,
     "metadata": {},
     "output_type": "execute_result"
    },
    {
     "data": {
      "image/png": "[encoded data removed]",
      "text/plain": [
       "<Figure size 3456x720 with 1 Axes>"
      ]
     },
     "metadata": {
      "needs_background": "light"
     },
     "output_type": "display_data"
    }
   ],
   "source": [
    "plt.figure(figsize=(48,10))\n",
    "sns.boxplot(x='year',y='price',data=cars_dataset)"
   ]
  },
  {
   "cell_type": "markdown",
   "metadata": {},
   "source": [
    "<font size=\"4\">We can see the cars sold upto 1980s have unusual price distribution every year and also those would be the oldest models with older engines and etc. and might be irrelevant to predict next model cars prices.So I will only consider prices from 1990 </font>"
   ]
  },
  {
   "cell_type": "code",
   "execution_count": 27,
   "metadata": {
    "scrolled": true
   },
   "outputs": [
    {
     "data": {
      "text/plain": [
       "4586"
      ]
     },
     "execution_count": 27,
     "metadata": {},
     "output_type": "execute_result"
    }
   ],
   "source": [
    "len(cars_dataset[cars_dataset['year']<1990.0])"
   ]
  },
  {
   "cell_type": "markdown",
   "metadata": {},
   "source": [
    "Also there are only 4586 cars sold before 1990 and I will safely remove those rows"
   ]
  },
  {
   "cell_type": "code",
   "execution_count": 28,
   "metadata": {},
   "outputs": [],
   "source": [
    "cars_dataset=cars_dataset[cars_dataset['year']>1990.0]"
   ]
  },
  {
   "cell_type": "code",
   "execution_count": 29,
   "metadata": {
    "scrolled": true
   },
   "outputs": [
    {
     "data": {
      "text/plain": [
       "2017.0    26651\n",
       "2015.0    26088\n",
       "2016.0    25072\n",
       "2014.0    24556\n",
       "2013.0    24487\n",
       "2012.0    22170\n",
       "2011.0    20376\n",
       "2008.0    16746\n",
       "2010.0    14991\n",
       "2007.0    14727\n",
       "2018.0    14027\n",
       "2006.0    12190\n",
       "2009.0    11909\n",
       "2005.0     9792\n",
       "2004.0     8338\n",
       "2019.0     8275\n",
       "2003.0     6329\n",
       "2002.0     4755\n",
       "2001.0     3655\n",
       "2000.0     3021\n",
       "1999.0     2318\n",
       "1998.0     1363\n",
       "1997.0     1240\n",
       "1996.0      861\n",
       "1995.0      804\n",
       "1994.0      674\n",
       "1993.0      462\n",
       "1992.0      416\n",
       "1991.0      341\n",
       "2020.0      270\n",
       "2021.0        6\n",
       "Name: year, dtype: int64"
      ]
     },
     "execution_count": 29,
     "metadata": {},
     "output_type": "execute_result"
    }
   ],
   "source": [
    "cars_dataset['year'].value_counts()"
   ]
  },
  {
   "cell_type": "markdown",
   "metadata": {},
   "source": [
    " year can't be 2021,beacause this is 2020,So i will remove them as well "
   ]
  },
  {
   "cell_type": "code",
   "execution_count": 30,
   "metadata": {},
   "outputs": [],
   "source": [
    "cars_dataset=cars_dataset[cars_dataset['year']!=2021]"
   ]
  },
  {
   "cell_type": "code",
   "execution_count": 31,
   "metadata": {},
   "outputs": [
    {
     "data": {
      "text/plain": [
       "(306904, 16)"
      ]
     },
     "execution_count": 31,
     "metadata": {},
     "output_type": "execute_result"
    }
   ],
   "source": [
    "cars_dataset.shape"
   ]
  },
  {
   "cell_type": "markdown",
   "metadata": {},
   "source": [
    "<b> paint_color:</b> </font>"
   ]
  },
  {
   "cell_type": "code",
   "execution_count": 32,
   "metadata": {
    "scrolled": true
   },
   "outputs": [
    {
     "data": {
      "text/plain": [
       "<matplotlib.axes._subplots.AxesSubplot at 0x1ced19ee7c8>"
      ]
     },
     "execution_count": 32,
     "metadata": {},
     "output_type": "execute_result"
    },
    {
     "data": {
      "image/png": "[encoded data removed]",
      "text/plain": [
       "<Figure size 864x432 with 1 Axes>"
      ]
     },
     "metadata": {
      "needs_background": "light"
     },
     "output_type": "display_data"
    }
   ],
   "source": [
    "plt.figure(figsize=(12,6))\n",
    "sns.boxplot(x='paint_color',y='price',data=cars_dataset)"
   ]
  },
  {
   "cell_type": "markdown",
   "metadata": {},
   "source": [
    "<font size=\"4\">paint_color isn't really affecting prices and also there around 20% null values .So I will drop this feature altogether </font>"
   ]
  },
  {
   "cell_type": "code",
   "execution_count": 33,
   "metadata": {},
   "outputs": [],
   "source": [
    "cars_dataset.drop('paint_color',axis=1,inplace=True)"
   ]
  },
  {
   "cell_type": "markdown",
   "metadata": {},
   "source": [
    "# Data Preprocessing:"
   ]
  },
  {
   "cell_type": "markdown",
   "metadata": {},
   "source": [
    "I will try to fill in or remove any missing values and see if there are any repititive features still present in dataset and also convert categorical data to dummy variables"
   ]
  },
  {
   "cell_type": "code",
   "execution_count": 34,
   "metadata": {},
   "outputs": [
    {
     "data": {
      "text/plain": [
       "price            0.000000\n",
       "year             0.000000\n",
       "manufacturer     2.848448\n",
       "model            0.773206\n",
       "condition       37.881227\n",
       "cylinders       32.603355\n",
       "fuel             0.732802\n",
       "odometer         0.000000\n",
       "title_status     0.410226\n",
       "transmission     0.532740\n",
       "vin             35.283020\n",
       "drive           20.005279\n",
       "size            65.937883\n",
       "type            18.341566\n",
       "description      0.000326\n",
       "dtype: float64"
      ]
     },
     "execution_count": 34,
     "metadata": {},
     "output_type": "execute_result"
    }
   ],
   "source": [
    "#convert number of missing values to percentage wrt to total size of dataset \n",
    "100* cars_dataset.isnull().sum()/len(cars_dataset)"
   ]
  },
  {
   "cell_type": "code",
   "execution_count": 35,
   "metadata": {},
   "outputs": [],
   "source": [
    "# drop those columns with more null values and are unimportatnt\n",
    "cars_dataset.drop(['vin','size'],axis=1,inplace=True)"
   ]
  },
  {
   "cell_type": "code",
   "execution_count": 36,
   "metadata": {},
   "outputs": [
    {
     "data": {
      "text/plain": [
       "price            0.000000\n",
       "year             0.000000\n",
       "manufacturer     2.848448\n",
       "model            0.773206\n",
       "condition       37.881227\n",
       "cylinders       32.603355\n",
       "fuel             0.732802\n",
       "odometer         0.000000\n",
       "title_status     0.410226\n",
       "transmission     0.532740\n",
       "drive           20.005279\n",
       "type            18.341566\n",
       "description      0.000326\n",
       "dtype: float64"
      ]
     },
     "execution_count": 36,
     "metadata": {},
     "output_type": "execute_result"
    }
   ],
   "source": [
    "#after removing those columns\n",
    "100* cars_dataset.isnull().sum()/len(cars_dataset)"
   ]
  },
  {
   "cell_type": "markdown",
   "metadata": {},
   "source": [
    "<b>Condition:</b>"
   ]
  },
  {
   "cell_type": "markdown",
   "metadata": {},
   "source": [
    " Since 'condition' is important feature in determining price,I will analyse it to fill missing values with appropriate data"
   ]
  },
  {
   "cell_type": "markdown",
   "metadata": {},
   "source": [
    "We can correlate condition of car with odometer beacause it makes sense that cars with lesser odometer value could have better condition.I will analyse it using boxplot "
   ]
  },
  {
   "cell_type": "code",
   "execution_count": 37,
   "metadata": {},
   "outputs": [
    {
     "data": {
      "text/plain": [
       "<matplotlib.axes._subplots.AxesSubplot at 0x1cecf884548>"
      ]
     },
     "execution_count": 37,
     "metadata": {},
     "output_type": "execute_result"
    },
    {
     "data": {
      "image/png": "[encoded data removed]",
      "text/plain": [
       "<Figure size 864x432 with 1 Axes>"
      ]
     },
     "metadata": {
      "needs_background": "light"
     },
     "output_type": "display_data"
    }
   ],
   "source": [
    "plt.figure(figsize=(12,6))\n",
    "sns.boxplot(x='condition',y='odometer',data=cars_dataset)"
   ]
  },
  {
   "cell_type": "code",
   "execution_count": 38,
   "metadata": {},
   "outputs": [
    {
     "data": {
      "text/plain": [
       "condition\n",
       "new           83050.749455\n",
       "like new      83844.708305\n",
       "good         104572.988089\n",
       "excellent    107033.095076\n",
       "salvage      115964.237903\n",
       "fair         170236.565318\n",
       "Name: odometer, dtype: float64"
      ]
     },
     "execution_count": 38,
     "metadata": {},
     "output_type": "execute_result"
    }
   ],
   "source": [
    "cars_dataset.groupby('condition').mean()['odometer'].sort_values()"
   ]
  },
  {
   "cell_type": "code",
   "execution_count": 39,
   "metadata": {},
   "outputs": [
    {
     "data": {
      "text/plain": [
       "<matplotlib.axes._subplots.AxesSubplot at 0x1cec8531148>"
      ]
     },
     "execution_count": 39,
     "metadata": {},
     "output_type": "execute_result"
    },
    {
     "data": {
      "image/png": "[encoded data removed]",
      "text/plain": [
       "<Figure size 432x288 with 1 Axes>"
      ]
     },
     "metadata": {
      "needs_background": "light"
     },
     "output_type": "display_data"
    }
   ],
   "source": [
    "sns.countplot(cars_dataset['condition'])"
   ]
  },
  {
   "cell_type": "markdown",
   "metadata": {},
   "source": [
    "<font size=\"4\"> So,I will fill the missing values whose odometer value is less than 80,000 ,with  'like new',odometer value above 130000 with 'fair' and remaining as 'excellent'   </font>"
   ]
  },
  {
   "cell_type": "code",
   "execution_count": 40,
   "metadata": {},
   "outputs": [],
   "source": [
    "conditions = [cars_dataset['odometer'] < 80000, cars_dataset['odometer'].between(80000, 130000), cars_dataset['odometer'] > 130000]\n",
    "values = ['like new','excellent','fair']"
   ]
  },
  {
   "cell_type": "code",
   "execution_count": 41,
   "metadata": {},
   "outputs": [],
   "source": [
    "cars_dataset['condition'] = np.where(cars_dataset['condition'].isnull(),\n",
    "                              np.select(conditions, values),\n",
    "                              cars_dataset['condition'])"
   ]
  },
  {
   "cell_type": "code",
   "execution_count": 42,
   "metadata": {},
   "outputs": [
    {
     "data": {
      "text/plain": [
       "0"
      ]
     },
     "execution_count": 42,
     "metadata": {},
     "output_type": "execute_result"
    }
   ],
   "source": [
    "cars_dataset['condition'].isnull().sum()"
   ]
  },
  {
   "cell_type": "markdown",
   "metadata": {},
   "source": [
    "<b>Cylinders:</b>"
   ]
  },
  {
   "cell_type": "code",
   "execution_count": 43,
   "metadata": {},
   "outputs": [
    {
     "data": {
      "text/plain": [
       "6 cylinders     74953\n",
       "4 cylinders     67388\n",
       "8 cylinders     60120\n",
       "5 cylinders      2020\n",
       "10 cylinders     1193\n",
       "other             632\n",
       "3 cylinders       407\n",
       "12 cylinders      130\n",
       "Name: cylinders, dtype: int64"
      ]
     },
     "execution_count": 43,
     "metadata": {},
     "output_type": "execute_result"
    }
   ],
   "source": [
    "cars_dataset.cylinders.value_counts()"
   ]
  },
  {
   "cell_type": "code",
   "execution_count": 44,
   "metadata": {},
   "outputs": [],
   "source": [
    "cars_dataset['cylinders']=cars_dataset['cylinders'].replace(['3 cylinders', '12 cylinders','5 cylinders', '10 cylinders'], 'other')"
   ]
  },
  {
   "cell_type": "code",
   "execution_count": 45,
   "metadata": {},
   "outputs": [
    {
     "data": {
      "text/plain": [
       "6 cylinders    74953\n",
       "4 cylinders    67388\n",
       "8 cylinders    60120\n",
       "other           4382\n",
       "Name: cylinders, dtype: int64"
      ]
     },
     "execution_count": 45,
     "metadata": {},
     "output_type": "execute_result"
    }
   ],
   "source": [
    "cars_dataset.cylinders.value_counts()"
   ]
  },
  {
   "cell_type": "code",
   "execution_count": 46,
   "metadata": {},
   "outputs": [
    {
     "data": {
      "text/plain": [
       "cylinders\n",
       "4 cylinders     9759.071348\n",
       "6 cylinders    13729.121516\n",
       "8 cylinders    18032.482751\n",
       "other          13036.590141\n",
       "Name: price, dtype: float64"
      ]
     },
     "execution_count": 46,
     "metadata": {},
     "output_type": "execute_result"
    }
   ],
   "source": [
    "cars_dataset.groupby('cylinders').mean()['price']"
   ]
  },
  {
   "cell_type": "code",
   "execution_count": 47,
   "metadata": {
    "scrolled": true
   },
   "outputs": [
    {
     "data": {
      "text/plain": [
       "<matplotlib.axes._subplots.AxesSubplot at 0x1ced355c0c8>"
      ]
     },
     "execution_count": 47,
     "metadata": {},
     "output_type": "execute_result"
    },
    {
     "data": {
      "image/png": "[encoded data removed]",
      "text/plain": [
       "<Figure size 1440x432 with 1 Axes>"
      ]
     },
     "metadata": {
      "needs_background": "light"
     },
     "output_type": "display_data"
    }
   ],
   "source": [
    "plt.figure(figsize=(20,6))\n",
    "sns.countplot(x='cylinders',hue='manufacturer',data=cars_dataset)"
   ]
  },
  {
   "cell_type": "markdown",
   "metadata": {},
   "source": [
    "The above analysis doesn't tell us much about the cylinders correlation with other features except that 8 cylinder cars are higher in number.So I will fill missing values under unknown category"
   ]
  },
  {
   "cell_type": "code",
   "execution_count": 48,
   "metadata": {},
   "outputs": [],
   "source": [
    "cars_dataset['cylinders'].fillna(value='unknown',inplace=True)"
   ]
  },
  {
   "cell_type": "code",
   "execution_count": 49,
   "metadata": {},
   "outputs": [
    {
     "data": {
      "text/plain": [
       "0"
      ]
     },
     "execution_count": 49,
     "metadata": {},
     "output_type": "execute_result"
    }
   ],
   "source": [
    "#checking if there are any nulls in cylinder by mistake\n",
    "cars_dataset.cylinders.isnull().sum()"
   ]
  },
  {
   "cell_type": "code",
   "execution_count": 50,
   "metadata": {},
   "outputs": [
    {
     "data": {
      "text/plain": [
       "price            0.000000\n",
       "year             0.000000\n",
       "manufacturer     2.848448\n",
       "model            0.773206\n",
       "condition        0.000000\n",
       "cylinders        0.000000\n",
       "fuel             0.732802\n",
       "odometer         0.000000\n",
       "title_status     0.410226\n",
       "transmission     0.532740\n",
       "drive           20.005279\n",
       "type            18.341566\n",
       "description      0.000326\n",
       "dtype: float64"
      ]
     },
     "execution_count": 50,
     "metadata": {},
     "output_type": "execute_result"
    }
   ],
   "source": [
    "#missing value percentages still left\n",
    "100* cars_dataset.isnull().sum()/len(cars_dataset)"
   ]
  },
  {
   "cell_type": "markdown",
   "metadata": {},
   "source": [
    "<b>Dropping some more columns:"
   ]
  },
  {
   "cell_type": "code",
   "execution_count": 51,
   "metadata": {},
   "outputs": [],
   "source": [
    "#I dropped it for simplicity as it doesn't affect prices much\n",
    "cars_dataset.drop('description',axis=1,inplace=True)"
   ]
  },
  {
   "cell_type": "code",
   "execution_count": 52,
   "metadata": {},
   "outputs": [
    {
     "data": {
      "text/plain": [
       "clean         291276\n",
       "rebuilt         8497\n",
       "salvage         3629\n",
       "lien            2140\n",
       "missing           72\n",
       "parts only        31\n",
       "Name: title_status, dtype: int64"
      ]
     },
     "execution_count": 52,
     "metadata": {},
     "output_type": "execute_result"
    }
   ],
   "source": [
    "cars_dataset.title_status.value_counts()"
   ]
  },
  {
   "cell_type": "code",
   "execution_count": 53,
   "metadata": {},
   "outputs": [],
   "source": [
    "#most of them are clean so I will drop this feature as well\n",
    "cars_dataset.drop('title_status',axis=1,inplace=True)"
   ]
  },
  {
   "cell_type": "code",
   "execution_count": 54,
   "metadata": {},
   "outputs": [
    {
     "data": {
      "text/plain": [
       "price            0.000000\n",
       "year             0.000000\n",
       "manufacturer     2.848448\n",
       "model            0.773206\n",
       "condition        0.000000\n",
       "cylinders        0.000000\n",
       "fuel             0.732802\n",
       "odometer         0.000000\n",
       "transmission     0.532740\n",
       "drive           20.005279\n",
       "type            18.341566\n",
       "dtype: float64"
      ]
     },
     "execution_count": 54,
     "metadata": {},
     "output_type": "execute_result"
    }
   ],
   "source": [
    "100* cars_dataset.isnull().sum()/len(cars_dataset)"
   ]
  },
  {
   "cell_type": "code",
   "execution_count": 55,
   "metadata": {},
   "outputs": [],
   "source": [
    "#Dropping model feature as well because I'm considering manufacturer and if I also include model I will have to create lot of dummy variables since it has lot of unique model names.So I'll drop it too.\n",
    "cars_dataset.drop('model',axis=1,inplace=True)"
   ]
  },
  {
   "cell_type": "markdown",
   "metadata": {},
   "source": [
    "<b> Dealing with drive:</b>Since 20% of these are null values,I will analyse it to fill values"
   ]
  },
  {
   "cell_type": "code",
   "execution_count": 56,
   "metadata": {
    "scrolled": true
   },
   "outputs": [
    {
     "data": {
      "text/plain": [
       "4wd    114404\n",
       "fwd     89012\n",
       "rwd     42091\n",
       "Name: drive, dtype: int64"
      ]
     },
     "execution_count": 56,
     "metadata": {},
     "output_type": "execute_result"
    }
   ],
   "source": [
    "cars_dataset['drive'].value_counts()"
   ]
  },
  {
   "cell_type": "code",
   "execution_count": 57,
   "metadata": {},
   "outputs": [
    {
     "data": {
      "text/plain": [
       "drive\n",
       "4wd    18286.043574\n",
       "fwd     9806.796050\n",
       "rwd    14614.917916\n",
       "Name: price, dtype: float64"
      ]
     },
     "execution_count": 57,
     "metadata": {},
     "output_type": "execute_result"
    }
   ],
   "source": [
    "cars_dataset.groupby('drive').mean()['price']"
   ]
  },
  {
   "cell_type": "markdown",
   "metadata": {},
   "source": [
    "we can see that 4wd drivetype cars are higher in both count and their average price.Let's further analyse it"
   ]
  },
  {
   "cell_type": "code",
   "execution_count": 58,
   "metadata": {},
   "outputs": [
    {
     "data": {
      "text/plain": [
       "<matplotlib.axes._subplots.AxesSubplot at 0x1ced25a9488>"
      ]
     },
     "execution_count": 58,
     "metadata": {},
     "output_type": "execute_result"
    },
    {
     "data": {
      "image/png": "[encoded data removed]",
      "text/plain": [
       "<Figure size 432x288 with 1 Axes>"
      ]
     },
     "metadata": {
      "needs_background": "light"
     },
     "output_type": "display_data"
    }
   ],
   "source": [
    "sns.countplot(x='drive',hue='condition',data=cars_dataset)"
   ]
  },
  {
   "cell_type": "markdown",
   "metadata": {},
   "source": [
    "I can't generalize from above analysis as to what values would fit into missing values beacuase although 4wd type are efficient and higher priced I cant simply fill the missing values based on prices and risk losing actual importance of that feature in determing prices.So I will categorise those into unknown"
   ]
  },
  {
   "cell_type": "code",
   "execution_count": 59,
   "metadata": {},
   "outputs": [],
   "source": [
    "cars_dataset['drive'].fillna(value='unknown',inplace=True)"
   ]
  },
  {
   "cell_type": "markdown",
   "metadata": {},
   "source": [
    "<b>dealing with type column:</b>"
   ]
  },
  {
   "cell_type": "code",
   "execution_count": 60,
   "metadata": {},
   "outputs": [
    {
     "data": {
      "text/plain": [
       "SUV            64698\n",
       "sedan          63448\n",
       "pickup         32967\n",
       "truck          29505\n",
       "coupe          12165\n",
       "hatchback      10183\n",
       "other           9729\n",
       "wagon           8488\n",
       "van             7759\n",
       "convertible     6109\n",
       "mini-van        4831\n",
       "bus              378\n",
       "offroad          353\n",
       "Name: type, dtype: int64"
      ]
     },
     "execution_count": 60,
     "metadata": {},
     "output_type": "execute_result"
    }
   ],
   "source": [
    "cars_dataset['type'].value_counts()"
   ]
  },
  {
   "cell_type": "markdown",
   "metadata": {},
   "source": [
    "I will simply categorize missing values into unknown"
   ]
  },
  {
   "cell_type": "code",
   "execution_count": 61,
   "metadata": {},
   "outputs": [],
   "source": [
    "cars_dataset['type'].fillna(value='unknown',inplace=True)"
   ]
  },
  {
   "cell_type": "markdown",
   "metadata": {},
   "source": [
    "<b>Removing all rows having null values in any column :</b>"
   ]
  },
  {
   "cell_type": "markdown",
   "metadata": {},
   "source": [
    "<font size=\"4\">I will remove rows having manufacturer null(and whatever left off null values)  since they contain roughly only 3-5% of dataset </font>"
   ]
  },
  {
   "cell_type": "code",
   "execution_count": 62,
   "metadata": {},
   "outputs": [],
   "source": [
    "cars_dataset.dropna(inplace=True)"
   ]
  },
  {
   "cell_type": "code",
   "execution_count": 63,
   "metadata": {},
   "outputs": [
    {
     "data": {
      "text/plain": [
       "price           0\n",
       "year            0\n",
       "manufacturer    0\n",
       "condition       0\n",
       "cylinders       0\n",
       "fuel            0\n",
       "odometer        0\n",
       "transmission    0\n",
       "drive           0\n",
       "type            0\n",
       "dtype: int64"
      ]
     },
     "execution_count": 63,
     "metadata": {},
     "output_type": "execute_result"
    }
   ],
   "source": [
    "cars_dataset.isnull().sum()"
   ]
  },
  {
   "cell_type": "markdown",
   "metadata": {},
   "source": [
    "<b>Convert categorial values to dummy variables </b>"
   ]
  },
  {
   "cell_type": "markdown",
   "metadata": {},
   "source": [
    "<b>manufacturer: </b>"
   ]
  },
  {
   "cell_type": "code",
   "execution_count": 64,
   "metadata": {},
   "outputs": [],
   "source": [
    "mfg_dummies= pd.get_dummies(cars_dataset['manufacturer'],drop_first=True)"
   ]
  },
  {
   "cell_type": "code",
   "execution_count": 65,
   "metadata": {},
   "outputs": [],
   "source": [
    "cars_dataset=pd.concat([cars_dataset.drop('manufacturer',axis=1),mfg_dummies],axis=1)"
   ]
  },
  {
   "cell_type": "code",
   "execution_count": 66,
   "metadata": {},
   "outputs": [
    {
     "data": {
      "text/plain": [
       "Index(['price', 'year', 'condition', 'cylinders', 'fuel', 'odometer',\n",
       "       'transmission', 'drive', 'type', 'alfa-romeo', 'aston-martin', 'audi',\n",
       "       'bmw', 'buick', 'cadillac', 'chevrolet', 'chrysler', 'dodge', 'ferrari',\n",
       "       'fiat', 'ford', 'gmc', 'harley-davidson', 'honda', 'hyundai',\n",
       "       'infiniti', 'jaguar', 'jeep', 'kia', 'land rover', 'lexus', 'lincoln',\n",
       "       'mazda', 'mercedes-benz', 'mercury', 'mini', 'mitsubishi', 'morgan',\n",
       "       'nissan', 'pontiac', 'porche', 'ram', 'rover', 'saturn', 'subaru',\n",
       "       'tesla', 'toyota', 'volkswagen', 'volvo'],\n",
       "      dtype='object')"
      ]
     },
     "execution_count": 66,
     "metadata": {},
     "output_type": "execute_result"
    }
   ],
   "source": [
    "cars_dataset.columns"
   ]
  },
  {
   "cell_type": "markdown",
   "metadata": {},
   "source": [
    "<b>condition:</b>"
   ]
  },
  {
   "cell_type": "code",
   "execution_count": 67,
   "metadata": {},
   "outputs": [],
   "source": [
    "cdn_dummies= pd.get_dummies(cars_dataset['condition'],drop_first=True)\n",
    "cars_dataset=pd.concat([cars_dataset.drop('condition',axis=1),cdn_dummies],axis=1)"
   ]
  },
  {
   "cell_type": "code",
   "execution_count": 68,
   "metadata": {},
   "outputs": [
    {
     "data": {
      "text/plain": [
       "Index(['price', 'year', 'cylinders', 'fuel', 'odometer', 'transmission',\n",
       "       'drive', 'type', 'alfa-romeo', 'aston-martin', 'audi', 'bmw', 'buick',\n",
       "       'cadillac', 'chevrolet', 'chrysler', 'dodge', 'ferrari', 'fiat', 'ford',\n",
       "       'gmc', 'harley-davidson', 'honda', 'hyundai', 'infiniti', 'jaguar',\n",
       "       'jeep', 'kia', 'land rover', 'lexus', 'lincoln', 'mazda',\n",
       "       'mercedes-benz', 'mercury', 'mini', 'mitsubishi', 'morgan', 'nissan',\n",
       "       'pontiac', 'porche', 'ram', 'rover', 'saturn', 'subaru', 'tesla',\n",
       "       'toyota', 'volkswagen', 'volvo', 'fair', 'good', 'like new', 'new',\n",
       "       'salvage'],\n",
       "      dtype='object')"
      ]
     },
     "execution_count": 68,
     "metadata": {},
     "output_type": "execute_result"
    }
   ],
   "source": [
    "cars_dataset.columns"
   ]
  },
  {
   "cell_type": "markdown",
   "metadata": {},
   "source": [
    "<b>cylinders:</b>"
   ]
  },
  {
   "cell_type": "code",
   "execution_count": 69,
   "metadata": {},
   "outputs": [],
   "source": [
    "cyl_dummies= pd.get_dummies(cars_dataset['cylinders'],drop_first=True)\n",
    "cars_dataset=pd.concat([cars_dataset.drop('cylinders',axis=1),cyl_dummies],axis=1)"
   ]
  },
  {
   "cell_type": "code",
   "execution_count": 70,
   "metadata": {
    "scrolled": true
   },
   "outputs": [
    {
     "data": {
      "text/plain": [
       "Index(['price', 'year', 'fuel', 'odometer', 'transmission', 'drive', 'type',\n",
       "       'alfa-romeo', 'aston-martin', 'audi', 'bmw', 'buick', 'cadillac',\n",
       "       'chevrolet', 'chrysler', 'dodge', 'ferrari', 'fiat', 'ford', 'gmc',\n",
       "       'harley-davidson', 'honda', 'hyundai', 'infiniti', 'jaguar', 'jeep',\n",
       "       'kia', 'land rover', 'lexus', 'lincoln', 'mazda', 'mercedes-benz',\n",
       "       'mercury', 'mini', 'mitsubishi', 'morgan', 'nissan', 'pontiac',\n",
       "       'porche', 'ram', 'rover', 'saturn', 'subaru', 'tesla', 'toyota',\n",
       "       'volkswagen', 'volvo', 'fair', 'good', 'like new', 'new', 'salvage',\n",
       "       '6 cylinders', '8 cylinders', 'other', 'unknown'],\n",
       "      dtype='object')"
      ]
     },
     "execution_count": 70,
     "metadata": {},
     "output_type": "execute_result"
    }
   ],
   "source": [
    "cars_dataset.columns"
   ]
  },
  {
   "cell_type": "markdown",
   "metadata": {},
   "source": [
    "<b> fuel:</b>"
   ]
  },
  {
   "cell_type": "code",
   "execution_count": 71,
   "metadata": {
    "scrolled": true
   },
   "outputs": [
    {
     "data": {
      "text/plain": [
       "gas         259451\n",
       "diesel       22440\n",
       "other         8685\n",
       "hybrid        3213\n",
       "electric       776\n",
       "Name: fuel, dtype: int64"
      ]
     },
     "execution_count": 71,
     "metadata": {},
     "output_type": "execute_result"
    }
   ],
   "source": [
    "cars_dataset.fuel.value_counts()"
   ]
  },
  {
   "cell_type": "code",
   "execution_count": 72,
   "metadata": {},
   "outputs": [],
   "source": [
    "fuel_dummies= pd.get_dummies(cars_dataset['fuel'],drop_first=True)\n",
    "cars_dataset=pd.concat([cars_dataset.drop('fuel',axis=1),fuel_dummies],axis=1)"
   ]
  },
  {
   "cell_type": "code",
   "execution_count": 73,
   "metadata": {},
   "outputs": [
    {
     "data": {
      "text/plain": [
       "Index(['price', 'year', 'odometer', 'transmission', 'drive', 'type',\n",
       "       'alfa-romeo', 'aston-martin', 'audi', 'bmw', 'buick', 'cadillac',\n",
       "       'chevrolet', 'chrysler', 'dodge', 'ferrari', 'fiat', 'ford', 'gmc',\n",
       "       'harley-davidson', 'honda', 'hyundai', 'infiniti', 'jaguar', 'jeep',\n",
       "       'kia', 'land rover', 'lexus', 'lincoln', 'mazda', 'mercedes-benz',\n",
       "       'mercury', 'mini', 'mitsubishi', 'morgan', 'nissan', 'pontiac',\n",
       "       'porche', 'ram', 'rover', 'saturn', 'subaru', 'tesla', 'toyota',\n",
       "       'volkswagen', 'volvo', 'fair', 'good', 'like new', 'new', 'salvage',\n",
       "       '6 cylinders', '8 cylinders', 'other', 'unknown', 'electric', 'gas',\n",
       "       'hybrid', 'other'],\n",
       "      dtype='object')"
      ]
     },
     "execution_count": 73,
     "metadata": {},
     "output_type": "execute_result"
    }
   ],
   "source": [
    "cars_dataset.columns"
   ]
  },
  {
   "cell_type": "markdown",
   "metadata": {},
   "source": [
    "<font size=\"4\"><b>transmission:</b> </font>"
   ]
  },
  {
   "cell_type": "code",
   "execution_count": 74,
   "metadata": {},
   "outputs": [
    {
     "data": {
      "text/plain": [
       "array(['automatic', 'other', 'manual'], dtype=object)"
      ]
     },
     "execution_count": 74,
     "metadata": {},
     "output_type": "execute_result"
    }
   ],
   "source": [
    "cars_dataset.transmission.unique()"
   ]
  },
  {
   "cell_type": "code",
   "execution_count": 75,
   "metadata": {},
   "outputs": [],
   "source": [
    "tran_dummies= pd.get_dummies(cars_dataset['transmission'],drop_first=True)\n",
    "cars_dataset=pd.concat([cars_dataset.drop('transmission',axis=1),tran_dummies],axis=1)"
   ]
  },
  {
   "cell_type": "code",
   "execution_count": 76,
   "metadata": {},
   "outputs": [
    {
     "data": {
      "text/plain": [
       "Index(['price', 'year', 'odometer', 'drive', 'type', 'alfa-romeo',\n",
       "       'aston-martin', 'audi', 'bmw', 'buick', 'cadillac', 'chevrolet',\n",
       "       'chrysler', 'dodge', 'ferrari', 'fiat', 'ford', 'gmc',\n",
       "       'harley-davidson', 'honda', 'hyundai', 'infiniti', 'jaguar', 'jeep',\n",
       "       'kia', 'land rover', 'lexus', 'lincoln', 'mazda', 'mercedes-benz',\n",
       "       'mercury', 'mini', 'mitsubishi', 'morgan', 'nissan', 'pontiac',\n",
       "       'porche', 'ram', 'rover', 'saturn', 'subaru', 'tesla', 'toyota',\n",
       "       'volkswagen', 'volvo', 'fair', 'good', 'like new', 'new', 'salvage',\n",
       "       '6 cylinders', '8 cylinders', 'other', 'unknown', 'electric', 'gas',\n",
       "       'hybrid', 'other', 'manual', 'other'],\n",
       "      dtype='object')"
      ]
     },
     "execution_count": 76,
     "metadata": {},
     "output_type": "execute_result"
    }
   ],
   "source": [
    "cars_dataset.columns"
   ]
  },
  {
   "cell_type": "markdown",
   "metadata": {},
   "source": [
    "<b> drive and type:</b>"
   ]
  },
  {
   "cell_type": "code",
   "execution_count": 77,
   "metadata": {},
   "outputs": [],
   "source": [
    "drive_dummies= pd.get_dummies(cars_dataset['drive'],drop_first=True)\n",
    "cars_dataset=pd.concat([cars_dataset.drop('drive',axis=1),drive_dummies],axis=1)\n",
    "type_dummies= pd.get_dummies(cars_dataset['type'],drop_first=True)\n",
    "cars_dataset=pd.concat([cars_dataset.drop('type',axis=1),type_dummies],axis=1)"
   ]
  },
  {
   "cell_type": "code",
   "execution_count": 78,
   "metadata": {},
   "outputs": [
    {
     "data": {
      "text/plain": [
       "Index(['price', 'year', 'odometer', 'alfa-romeo', 'aston-martin', 'audi',\n",
       "       'bmw', 'buick', 'cadillac', 'chevrolet', 'chrysler', 'dodge', 'ferrari',\n",
       "       'fiat', 'ford', 'gmc', 'harley-davidson', 'honda', 'hyundai',\n",
       "       'infiniti', 'jaguar', 'jeep', 'kia', 'land rover', 'lexus', 'lincoln',\n",
       "       'mazda', 'mercedes-benz', 'mercury', 'mini', 'mitsubishi', 'morgan',\n",
       "       'nissan', 'pontiac', 'porche', 'ram', 'rover', 'saturn', 'subaru',\n",
       "       'tesla', 'toyota', 'volkswagen', 'volvo', 'fair', 'good', 'like new',\n",
       "       'new', 'salvage', '6 cylinders', '8 cylinders', 'other', 'unknown',\n",
       "       'electric', 'gas', 'hybrid', 'other', 'manual', 'other', 'fwd', 'rwd',\n",
       "       'unknown', 'bus', 'convertible', 'coupe', 'hatchback', 'mini-van',\n",
       "       'offroad', 'other', 'pickup', 'sedan', 'truck', 'unknown', 'van',\n",
       "       'wagon'],\n",
       "      dtype='object')"
      ]
     },
     "execution_count": 78,
     "metadata": {},
     "output_type": "execute_result"
    }
   ],
   "source": [
    "cars_dataset.columns"
   ]
  },
  {
   "cell_type": "markdown",
   "metadata": {},
   "source": [
    "# Train Test Split"
   ]
  },
  {
   "cell_type": "code",
   "execution_count": 79,
   "metadata": {},
   "outputs": [],
   "source": [
    "from sklearn.model_selection import train_test_split"
   ]
  },
  {
   "cell_type": "code",
   "execution_count": 80,
   "metadata": {},
   "outputs": [],
   "source": [
    "X = cars_dataset.drop('price',axis=1).values\n",
    "y = cars_dataset['price'].values"
   ]
  },
  {
   "cell_type": "code",
   "execution_count": 81,
   "metadata": {},
   "outputs": [],
   "source": [
    "X_train, X_test, y_train, y_test = train_test_split(X, y, test_size=0.20, random_state=1)"
   ]
  },
  {
   "cell_type": "markdown",
   "metadata": {},
   "source": [
    "# Scaling the data:"
   ]
  },
  {
   "cell_type": "code",
   "execution_count": 82,
   "metadata": {},
   "outputs": [],
   "source": [
    "from sklearn.preprocessing import MinMaxScaler\n",
    "scaler = MinMaxScaler()\n",
    "X_train = scaler.fit_transform(X_train)\n",
    "X_test = scaler.transform(X_test)"
   ]
  },
  {
   "cell_type": "markdown",
   "metadata": {},
   "source": [
    "# Creating the Model"
   ]
  },
  {
   "cell_type": "markdown",
   "metadata": {},
   "source": [
    "I am using neural network model using Keras"
   ]
  },
  {
   "cell_type": "code",
   "execution_count": 83,
   "metadata": {},
   "outputs": [
    {
     "name": "stderr",
     "output_type": "stream",
     "text": [
      "C:\\Users\\pc\\anaconda3\\lib\\site-packages\\tensorflow\\python\\framework\\dtypes.py:516: FutureWarning: Passing (type, 1) or '1type' as a synonym of type is deprecated; in a future version of numpy, it will be understood as (type, (1,)) / '(1,)type'.\n",
      "  _np_qint8 = np.dtype([(\"qint8\", np.int8, 1)])\n",
      "C:\\Users\\pc\\anaconda3\\lib\\site-packages\\tensorflow\\python\\framework\\dtypes.py:517: FutureWarning: Passing (type, 1) or '1type' as a synonym of type is deprecated; in a future version of numpy, it will be understood as (type, (1,)) / '(1,)type'.\n",
      "  _np_quint8 = np.dtype([(\"quint8\", np.uint8, 1)])\n",
      "C:\\Users\\pc\\anaconda3\\lib\\site-packages\\tensorflow\\python\\framework\\dtypes.py:518: FutureWarning: Passing (type, 1) or '1type' as a synonym of type is deprecated; in a future version of numpy, it will be understood as (type, (1,)) / '(1,)type'.\n",
      "  _np_qint16 = np.dtype([(\"qint16\", np.int16, 1)])\n",
      "C:\\Users\\pc\\anaconda3\\lib\\site-packages\\tensorflow\\python\\framework\\dtypes.py:519: FutureWarning: Passing (type, 1) or '1type' as a synonym of type is deprecated; in a future version of numpy, it will be understood as (type, (1,)) / '(1,)type'.\n",
      "  _np_quint16 = np.dtype([(\"quint16\", np.uint16, 1)])\n",
      "C:\\Users\\pc\\anaconda3\\lib\\site-packages\\tensorflow\\python\\framework\\dtypes.py:520: FutureWarning: Passing (type, 1) or '1type' as a synonym of type is deprecated; in a future version of numpy, it will be understood as (type, (1,)) / '(1,)type'.\n",
      "  _np_qint32 = np.dtype([(\"qint32\", np.int32, 1)])\n",
      "C:\\Users\\pc\\anaconda3\\lib\\site-packages\\tensorflow\\python\\framework\\dtypes.py:525: FutureWarning: Passing (type, 1) or '1type' as a synonym of type is deprecated; in a future version of numpy, it will be understood as (type, (1,)) / '(1,)type'.\n",
      "  np_resource = np.dtype([(\"resource\", np.ubyte, 1)])\n",
      "C:\\Users\\pc\\anaconda3\\lib\\site-packages\\tensorboard\\compat\\tensorflow_stub\\dtypes.py:541: FutureWarning: Passing (type, 1) or '1type' as a synonym of type is deprecated; in a future version of numpy, it will be understood as (type, (1,)) / '(1,)type'.\n",
      "  _np_qint8 = np.dtype([(\"qint8\", np.int8, 1)])\n",
      "C:\\Users\\pc\\anaconda3\\lib\\site-packages\\tensorboard\\compat\\tensorflow_stub\\dtypes.py:542: FutureWarning: Passing (type, 1) or '1type' as a synonym of type is deprecated; in a future version of numpy, it will be understood as (type, (1,)) / '(1,)type'.\n",
      "  _np_quint8 = np.dtype([(\"quint8\", np.uint8, 1)])\n",
      "C:\\Users\\pc\\anaconda3\\lib\\site-packages\\tensorboard\\compat\\tensorflow_stub\\dtypes.py:543: FutureWarning: Passing (type, 1) or '1type' as a synonym of type is deprecated; in a future version of numpy, it will be understood as (type, (1,)) / '(1,)type'.\n",
      "  _np_qint16 = np.dtype([(\"qint16\", np.int16, 1)])\n",
      "C:\\Users\\pc\\anaconda3\\lib\\site-packages\\tensorboard\\compat\\tensorflow_stub\\dtypes.py:544: FutureWarning: Passing (type, 1) or '1type' as a synonym of type is deprecated; in a future version of numpy, it will be understood as (type, (1,)) / '(1,)type'.\n",
      "  _np_quint16 = np.dtype([(\"quint16\", np.uint16, 1)])\n",
      "C:\\Users\\pc\\anaconda3\\lib\\site-packages\\tensorboard\\compat\\tensorflow_stub\\dtypes.py:545: FutureWarning: Passing (type, 1) or '1type' as a synonym of type is deprecated; in a future version of numpy, it will be understood as (type, (1,)) / '(1,)type'.\n",
      "  _np_qint32 = np.dtype([(\"qint32\", np.int32, 1)])\n",
      "C:\\Users\\pc\\anaconda3\\lib\\site-packages\\tensorboard\\compat\\tensorflow_stub\\dtypes.py:550: FutureWarning: Passing (type, 1) or '1type' as a synonym of type is deprecated; in a future version of numpy, it will be understood as (type, (1,)) / '(1,)type'.\n",
      "  np_resource = np.dtype([(\"resource\", np.ubyte, 1)])\n"
     ]
    }
   ],
   "source": [
    "import tensorflow as tf\n",
    "from tensorflow.keras.models import Sequential\n",
    "from tensorflow.keras.layers import Dense, Activation,Dropout"
   ]
  },
  {
   "cell_type": "code",
   "execution_count": 84,
   "metadata": {},
   "outputs": [
    {
     "data": {
      "text/plain": [
       "(294565, 74)"
      ]
     },
     "execution_count": 84,
     "metadata": {},
     "output_type": "execute_result"
    }
   ],
   "source": [
    "cars_dataset.shape"
   ]
  },
  {
   "cell_type": "code",
   "execution_count": 85,
   "metadata": {},
   "outputs": [
    {
     "name": "stdout",
     "output_type": "stream",
     "text": [
      "WARNING:tensorflow:From C:\\Users\\pc\\anaconda3\\lib\\site-packages\\tensorflow\\python\\ops\\init_ops.py:1251: calling VarianceScaling.__init__ (from tensorflow.python.ops.init_ops) with dtype is deprecated and will be removed in a future version.\n",
      "Instructions for updating:\n",
      "Call initializer instance with the dtype argument instead of passing it to the constructor\n"
     ]
    }
   ],
   "source": [
    "model = Sequential()\n",
    "# input layer\n",
    "model.add(Dense(74,  activation='relu'))\n",
    "model.add(Dropout(0.2))\n",
    "# hidden layer\n",
    "model.add(Dense(37, activation='relu'))\n",
    "model.add(Dropout(0.2))\n",
    "# hidden layer\n",
    "model.add(Dense(18, activation='relu'))\n",
    "model.add(Dropout(0.2))\n",
    "# output layer\n",
    "model.add(Dense(units=1))\n",
    "# Compiling model\n",
    "model.compile(loss='mse', optimizer='adam')"
   ]
  },
  {
   "cell_type": "code",
   "execution_count": 86,
   "metadata": {},
   "outputs": [],
   "source": [
    "#import earlystopping to stop training when there is no further improvement in model\n",
    "from tensorflow.keras.callbacks import EarlyStopping"
   ]
  },
  {
   "cell_type": "code",
   "execution_count": 87,
   "metadata": {},
   "outputs": [],
   "source": [
    "early_stop = EarlyStopping(monitor='val_loss', mode='min', verbose=1, patience=20)"
   ]
  },
  {
   "cell_type": "code",
   "execution_count": 88,
   "metadata": {
    "scrolled": true
   },
   "outputs": [
    {
     "name": "stdout",
     "output_type": "stream",
     "text": [
      "Train on 235652 samples, validate on 58913 samples\n",
      "Epoch 1/200\n",
      "235652/235652 [==============================] - 11s 48us/sample - loss: 191333105.0796 - val_loss: 81237116.4952\n",
      "Epoch 2/200\n",
      "235652/235652 [==============================] - 8s 33us/sample - loss: 72767241.4087 - val_loss: 53413072.6220\n",
      "Epoch 3/200\n",
      "235652/235652 [==============================] - 4s 18us/sample - loss: 56764526.6035 - val_loss: 41921558.0653\n",
      "Epoch 4/200\n",
      "235652/235652 [==============================] - 13s 56us/sample - loss: 45711180.6301 - val_loss: 31466084.9542\n",
      "Epoch 5/200\n",
      "235652/235652 [==============================] - 12s 52us/sample - loss: 38613574.7454 - val_loss: 27711314.3435\n",
      "Epoch 6/200\n",
      "235652/235652 [==============================] - 13s 55us/sample - loss: 36433251.4979 - val_loss: 26281903.8173\n",
      "Epoch 7/200\n",
      "235652/235652 [==============================] - 11s 47us/sample - loss: 35376182.0612 - val_loss: 25629339.8000\n",
      "Epoch 8/200\n",
      "235652/235652 [==============================] - 9s 40us/sample - loss: 35076928.2164 - val_loss: 25455860.5029\n",
      "Epoch 9/200\n",
      "235652/235652 [==============================] - 10s 42us/sample - loss: 34339317.8251 - val_loss: 24819852.0002\n",
      "Epoch 10/200\n",
      "235652/235652 [==============================] - 12s 51us/sample - loss: 33976347.8067 - val_loss: 24485288.2719\n",
      "Epoch 11/200\n",
      "235652/235652 [==============================] - 12s 49us/sample - loss: 33516654.0819 - val_loss: 24084520.1605\n",
      "Epoch 12/200\n",
      "235652/235652 [==============================] - 11s 46us/sample - loss: 33135147.2383 - val_loss: 23520730.0245\n",
      "Epoch 13/200\n",
      "235652/235652 [==============================] - 12s 52us/sample - loss: 32687074.0214 - val_loss: 23187872.0780\n",
      "Epoch 14/200\n",
      "235652/235652 [==============================] - 9s 36us/sample - loss: 32493799.9116 - val_loss: 22807203.3884\n",
      "Epoch 15/200\n",
      "235652/235652 [==============================] - 12s 50us/sample - loss: 32156102.1817 - val_loss: 23040868.2115\n",
      "Epoch 16/200\n",
      "235652/235652 [==============================] - 11s 49us/sample - loss: 32003578.5304 - val_loss: 22371235.9244\n",
      "Epoch 17/200\n",
      "235652/235652 [==============================] - 12s 52us/sample - loss: 31629851.0738 - val_loss: 22186027.4965\n",
      "Epoch 18/200\n",
      "235652/235652 [==============================] - 12s 52us/sample - loss: 31428354.9776 - val_loss: 22492080.1718\n",
      "Epoch 19/200\n",
      "235652/235652 [==============================] - 12s 52us/sample - loss: 31423448.3879 - val_loss: 21890451.5616\n",
      "Epoch 20/200\n",
      "235652/235652 [==============================] - 9s 38us/sample - loss: 31077458.1303 - val_loss: 21621266.3824\n",
      "Epoch 21/200\n",
      "235652/235652 [==============================] - 11s 45us/sample - loss: 31080259.3180 - val_loss: 21386081.3149\n",
      "Epoch 22/200\n",
      "235652/235652 [==============================] - 11s 47us/sample - loss: 30705764.9265 - val_loss: 21298716.0172\n",
      "Epoch 23/200\n",
      "235652/235652 [==============================] - 14s 58us/sample - loss: 30619983.0516 - val_loss: 21293835.2119\n",
      "Epoch 24/200\n",
      "235652/235652 [==============================] - 14s 59us/sample - loss: 30560132.4027 - val_loss: 21359446.9396\n",
      "Epoch 25/200\n",
      "235652/235652 [==============================] - 13s 55us/sample - loss: 30582000.4003 - val_loss: 20885944.0536\n",
      "Epoch 26/200\n",
      "235652/235652 [==============================] - 11s 48us/sample - loss: 30496245.0979 - val_loss: 21037249.2461\n",
      "Epoch 27/200\n",
      "235652/235652 [==============================] - 9s 40us/sample - loss: 30225108.2078 - val_loss: 20952355.5963\n",
      "Epoch 28/200\n",
      "235652/235652 [==============================] - 5s 22us/sample - loss: 30433274.0709 - val_loss: 20774788.7940\n",
      "Epoch 29/200\n",
      "235652/235652 [==============================] - 4s 17us/sample - loss: 30158412.8369 - val_loss: 20926812.9645\n",
      "Epoch 30/200\n",
      "235652/235652 [==============================] - 4s 16us/sample - loss: 30093599.2036 - val_loss: 20841732.8244\n",
      "Epoch 31/200\n",
      "235652/235652 [==============================] - 3s 15us/sample - loss: 30095735.1751 - val_loss: 20711671.8800\n",
      "Epoch 32/200\n",
      "235652/235652 [==============================] - 3s 14us/sample - loss: 30015524.4138 - val_loss: 20550738.9418\n",
      "Epoch 33/200\n",
      "235652/235652 [==============================] - 3s 13us/sample - loss: 30012196.7076 - val_loss: 20508378.9516\n",
      "Epoch 34/200\n",
      "235652/235652 [==============================] - 9s 36us/sample - loss: 29918658.7159 - val_loss: 20333275.4577\n",
      "Epoch 35/200\n",
      "235652/235652 [==============================] - 9s 37us/sample - loss: 29881424.8292 - val_loss: 20693993.5694\n",
      "Epoch 36/200\n",
      "235652/235652 [==============================] - 8s 35us/sample - loss: 29728925.1680 - val_loss: 20437242.8275\n",
      "Epoch 37/200\n",
      "235652/235652 [==============================] - 12s 50us/sample - loss: 29565698.7806 - val_loss: 20271862.0958\n",
      "Epoch 38/200\n",
      "235652/235652 [==============================] - 10s 42us/sample - loss: 29677511.7854 - val_loss: 20296505.7154\n",
      "Epoch 39/200\n",
      "235652/235652 [==============================] - 10s 41us/sample - loss: 29585052.4030 - val_loss: 20416631.9802\n",
      "Epoch 40/200\n",
      "235652/235652 [==============================] - 9s 40us/sample - loss: 29486048.8396 - val_loss: 20114465.1248\n",
      "Epoch 41/200\n",
      "235652/235652 [==============================] - 12s 49us/sample - loss: 29441937.2799 - val_loss: 20491816.4356\n",
      "Epoch 42/200\n",
      "235652/235652 [==============================] - 13s 55us/sample - loss: 29497977.2189 - val_loss: 20168829.8066\n",
      "Epoch 43/200\n",
      "235652/235652 [==============================] - 13s 54us/sample - loss: 29560136.8382 - val_loss: 20058561.5250\n",
      "Epoch 44/200\n",
      "235652/235652 [==============================] - 13s 54us/sample - loss: 29550231.1540 - val_loss: 20247467.4435\n",
      "Epoch 45/200\n",
      "235652/235652 [==============================] - 13s 57us/sample - loss: 29432077.8534 - val_loss: 20144697.9805\n",
      "Epoch 46/200\n",
      "235652/235652 [==============================] - 12s 52us/sample - loss: 29336213.6468 - val_loss: 20072274.4073\n",
      "Epoch 47/200\n",
      "235652/235652 [==============================] - 13s 55us/sample - loss: 29313554.8049 - val_loss: 20210260.0976\n",
      "Epoch 48/200\n",
      "235652/235652 [==============================] - 13s 54us/sample - loss: 29269930.5871 - val_loss: 20153362.3412\n",
      "Epoch 49/200\n",
      "235652/235652 [==============================] - 14s 59us/sample - loss: 29355284.1660 - val_loss: 20038377.3085\n",
      "Epoch 50/200\n",
      "235652/235652 [==============================] - 12s 49us/sample - loss: 29227591.2615 - val_loss: 19965920.7706\n",
      "Epoch 51/200\n",
      "235652/235652 [==============================] - 13s 56us/sample - loss: 29162933.4985 - val_loss: 19943363.3865\n",
      "Epoch 52/200\n",
      "235652/235652 [==============================] - 14s 58us/sample - loss: 29168605.8339 - val_loss: 20075655.2412\n",
      "Epoch 53/200\n",
      "235652/235652 [==============================] - 13s 57us/sample - loss: 29254795.6798 - val_loss: 19720509.2567\n",
      "Epoch 54/200\n",
      "235652/235652 [==============================] - 14s 60us/sample - loss: 29065621.2864 - val_loss: 19802432.2896\n",
      "Epoch 55/200\n",
      "235652/235652 [==============================] - 14s 59us/sample - loss: 29046654.0111 - val_loss: 20031517.5305\n",
      "Epoch 56/200\n",
      "235652/235652 [==============================] - 12s 49us/sample - loss: 28921574.5141 - val_loss: 19775191.4675\n",
      "Epoch 57/200\n",
      "235652/235652 [==============================] - 9s 37us/sample - loss: 29102452.6886 - val_loss: 19895150.3274\n",
      "Epoch 58/200\n",
      "235652/235652 [==============================] - 10s 42us/sample - loss: 29103275.5955 - val_loss: 19728717.6241\n",
      "Epoch 59/200\n",
      "235652/235652 [==============================] - 14s 60us/sample - loss: 29002054.6557 - val_loss: 19727412.4360\n",
      "Epoch 60/200\n",
      "235652/235652 [==============================] - 11s 49us/sample - loss: 29015291.9411 - val_loss: 20176681.3116\n",
      "Epoch 61/200\n",
      "235652/235652 [==============================] - 6s 26us/sample - loss: 28903247.0763 - val_loss: 19862429.5590\n",
      "Epoch 62/200\n",
      "235652/235652 [==============================] - 14s 60us/sample - loss: 29129861.8799 - val_loss: 19715295.8728\n",
      "Epoch 63/200\n",
      "235652/235652 [==============================] - 13s 55us/sample - loss: 28919022.5535 - val_loss: 19837082.9155\n",
      "Epoch 64/200\n",
      "235652/235652 [==============================] - 8s 35us/sample - loss: 28931859.2191 - val_loss: 19602739.6408\n",
      "Epoch 65/200\n",
      "235652/235652 [==============================] - 5s 22us/sample - loss: 28746815.9234 - val_loss: 19645305.8737\n"
     ]
    },
    {
     "name": "stdout",
     "output_type": "stream",
     "text": [
      "Epoch 66/200\n",
      "235652/235652 [==============================] - 10s 43us/sample - loss: 28791504.5328 - val_loss: 19648193.7266\n",
      "Epoch 67/200\n",
      "235652/235652 [==============================] - 8s 33us/sample - loss: 28994090.5410 - val_loss: 19723958.7178\n",
      "Epoch 68/200\n",
      "235652/235652 [==============================] - 9s 40us/sample - loss: 28861505.3659 - val_loss: 19653628.6355\n",
      "Epoch 69/200\n",
      "235652/235652 [==============================] - 13s 56us/sample - loss: 28809987.5108 - val_loss: 19597831.2156\n",
      "Epoch 70/200\n",
      "235652/235652 [==============================] - 7s 29us/sample - loss: 28887419.4572 - val_loss: 19699089.6774\n",
      "Epoch 71/200\n",
      "235652/235652 [==============================] - 13s 56us/sample - loss: 28835174.4173 - val_loss: 19537527.9777\n",
      "Epoch 72/200\n",
      "235652/235652 [==============================] - 14s 58us/sample - loss: 28790209.1904 - val_loss: 19609761.3307\n",
      "Epoch 73/200\n",
      "235652/235652 [==============================] - 14s 58us/sample - loss: 28898981.4555 - val_loss: 19621952.7353\n",
      "Epoch 74/200\n",
      "235652/235652 [==============================] - 12s 53us/sample - loss: 28840325.9236 - val_loss: 19494089.1716\n",
      "Epoch 75/200\n",
      "235652/235652 [==============================] - 14s 59us/sample - loss: 28821203.5513 - val_loss: 19321012.3084\n",
      "Epoch 76/200\n",
      "235652/235652 [==============================] - 13s 56us/sample - loss: 28758018.9638 - val_loss: 19424253.0576\n",
      "Epoch 77/200\n",
      "235652/235652 [==============================] - 12s 52us/sample - loss: 28890366.7632 - val_loss: 19643350.0702\n",
      "Epoch 78/200\n",
      "235652/235652 [==============================] - 9s 38us/sample - loss: 28601221.1887 - val_loss: 19623127.4199\n",
      "Epoch 79/200\n",
      "235652/235652 [==============================] - 5s 20us/sample - loss: 28762397.7496 - val_loss: 19562563.7155\n",
      "Epoch 80/200\n",
      "235652/235652 [==============================] - 4s 16us/sample - loss: 28787009.4031 - val_loss: 19554428.6515\n",
      "Epoch 81/200\n",
      "235652/235652 [==============================] - 11s 46us/sample - loss: 28550628.6564 - val_loss: 19500108.1966\n",
      "Epoch 82/200\n",
      "235652/235652 [==============================] - 13s 54us/sample - loss: 28733303.4099 - val_loss: 19318289.6949\n",
      "Epoch 83/200\n",
      "235652/235652 [==============================] - 13s 56us/sample - loss: 28666802.2686 - val_loss: 19524662.4264\n",
      "Epoch 84/200\n",
      "235652/235652 [==============================] - 13s 56us/sample - loss: 28748556.9916 - val_loss: 19531352.6912\n",
      "Epoch 85/200\n",
      "235652/235652 [==============================] - 12s 49us/sample - loss: 28702611.3110 - val_loss: 19693763.5218\n",
      "Epoch 86/200\n",
      "235652/235652 [==============================] - 9s 37us/sample - loss: 28731630.6086 - val_loss: 19583464.5472\n",
      "Epoch 87/200\n",
      "235652/235652 [==============================] - 13s 56us/sample - loss: 28654376.4381 - val_loss: 19404882.7238\n",
      "Epoch 88/200\n",
      "235652/235652 [==============================] - 14s 59us/sample - loss: 28655110.4568 - val_loss: 19430698.6863\n",
      "Epoch 89/200\n",
      "235652/235652 [==============================] - 12s 52us/sample - loss: 28732475.5904 - val_loss: 19318337.5405\n",
      "Epoch 90/200\n",
      "235652/235652 [==============================] - 14s 57us/sample - loss: 28610374.0928 - val_loss: 19480814.7290\n",
      "Epoch 91/200\n",
      "235652/235652 [==============================] - 11s 47us/sample - loss: 28638616.8101 - val_loss: 19329773.4523\n",
      "Epoch 92/200\n",
      "235652/235652 [==============================] - 6s 24us/sample - loss: 28487791.0855 - val_loss: 19438347.1523\n",
      "Epoch 93/200\n",
      "235652/235652 [==============================] - 8s 35us/sample - loss: 28553949.0610 - val_loss: 19274873.6062\n",
      "Epoch 94/200\n",
      "235652/235652 [==============================] - 12s 52us/sample - loss: 28521691.8533 - val_loss: 19498421.8937\n",
      "Epoch 95/200\n",
      "235652/235652 [==============================] - 12s 50us/sample - loss: 28539144.6289 - val_loss: 19318299.6887\n",
      "Epoch 96/200\n",
      "235652/235652 [==============================] - 14s 59us/sample - loss: 28476768.9315 - val_loss: 19087102.1716\n",
      "Epoch 97/200\n",
      "235652/235652 [==============================] - 12s 49us/sample - loss: 28600147.1362 - val_loss: 19498807.5197\n",
      "Epoch 98/200\n",
      "235652/235652 [==============================] - 14s 59us/sample - loss: 28489588.7567 - val_loss: 19118839.8939\n",
      "Epoch 99/200\n",
      "235652/235652 [==============================] - 10s 44us/sample - loss: 28533625.5388 - val_loss: 19428437.4508\n",
      "Epoch 100/200\n",
      "235652/235652 [==============================] - 11s 47us/sample - loss: 28507099.0559 - val_loss: 19387952.5731\n",
      "Epoch 101/200\n",
      "235652/235652 [==============================] - 12s 52us/sample - loss: 28262832.5251 - val_loss: 19167651.2817\n",
      "Epoch 102/200\n",
      "235652/235652 [==============================] - 12s 52us/sample - loss: 28467451.7087 - val_loss: 19387800.3853\n",
      "Epoch 103/200\n",
      "235652/235652 [==============================] - 13s 54us/sample - loss: 28384934.8072 - val_loss: 19175332.1784\n",
      "Epoch 104/200\n",
      "235652/235652 [==============================] - 13s 56us/sample - loss: 28707216.1390 - val_loss: 19490526.2928\n",
      "Epoch 105/200\n",
      "235652/235652 [==============================] - 13s 56us/sample - loss: 28362926.9393 - val_loss: 19539516.5691: 0s - loss: 28390570. - ETA: 0s - loss: 28399652.\n",
      "Epoch 106/200\n",
      "235652/235652 [==============================] - 12s 53us/sample - loss: 28480379.1641 - val_loss: 19043215.8129\n",
      "Epoch 107/200\n",
      "235652/235652 [==============================] - 11s 47us/sample - loss: 28216541.0590 - val_loss: 19278594.6791\n",
      "Epoch 108/200\n",
      "235652/235652 [==============================] - 14s 58us/sample - loss: 28526584.8864 - val_loss: 19321801.6029\n",
      "Epoch 109/200\n",
      "235652/235652 [==============================] - 11s 48us/sample - loss: 28391147.4699 - val_loss: 19199554.1603\n",
      "Epoch 110/200\n",
      "235652/235652 [==============================] - 13s 55us/sample - loss: 28385856.9923 - val_loss: 19293940.2350\n",
      "Epoch 111/200\n",
      "235652/235652 [==============================] - 13s 55us/sample - loss: 28409814.4416 - val_loss: 19112602.3072\n",
      "Epoch 112/200\n",
      "235652/235652 [==============================] - 10s 44us/sample - loss: 28489814.2164 - val_loss: 19192070.9951\n",
      "Epoch 113/200\n",
      "235652/235652 [==============================] - 10s 41us/sample - loss: 28266288.7043 - val_loss: 19446078.6928\n",
      "Epoch 114/200\n",
      "235652/235652 [==============================] - 13s 55us/sample - loss: 28276110.7367 - val_loss: 19244986.9035 loss: 28285327.72 - ETA: 1s - loss: 2830502 - E\n",
      "Epoch 115/200\n",
      "235652/235652 [==============================] - 13s 55us/sample - loss: 28346139.5647 - val_loss: 18932371.4099\n",
      "Epoch 116/200\n",
      "235652/235652 [==============================] - 12s 50us/sample - loss: 28331877.0648 - val_loss: 18911410.1105\n",
      "Epoch 117/200\n",
      "235652/235652 [==============================] - 9s 38us/sample - loss: 28186488.5798 - val_loss: 19174882.5669\n",
      "Epoch 118/200\n",
      "235652/235652 [==============================] - 13s 55us/sample - loss: 28306806.5647 - val_loss: 18902343.3204\n",
      "Epoch 119/200\n",
      "235652/235652 [==============================] - 14s 61us/sample - loss: 28365299.2395 - val_loss: 18904739.0433\n",
      "Epoch 120/200\n",
      "235652/235652 [==============================] - 13s 57us/sample - loss: 28341213.7787 - val_loss: 19096166.3703\n",
      "Epoch 121/200\n",
      "235652/235652 [==============================] - 14s 60us/sample - loss: 28253038.4923 - val_loss: 18808529.3135\n",
      "Epoch 122/200\n",
      "235652/235652 [==============================] - 13s 55us/sample - loss: 28380174.4300 - val_loss: 19077221.5100\n",
      "Epoch 123/200\n",
      "235652/235652 [==============================] - 13s 54us/sample - loss: 28307419.6756 - val_loss: 19295348.7944\n",
      "Epoch 124/200\n",
      "235652/235652 [==============================] - 14s 61us/sample - loss: 28417485.6322 - val_loss: 19318508.7399\n",
      "Epoch 125/200\n",
      "235652/235652 [==============================] - 13s 56us/sample - loss: 28384044.6685 - val_loss: 19247132.9057\n",
      "Epoch 126/200\n",
      "235652/235652 [==============================] - 6s 26us/sample - loss: 28105414.9286 - val_loss: 19063848.7799\n",
      "Epoch 127/200\n",
      "235652/235652 [==============================] - 4s 16us/sample - loss: 28165488.4923 - val_loss: 19476878.2402\n",
      "Epoch 128/200\n",
      "235652/235652 [==============================] - 4s 15us/sample - loss: 28286974.8486 - val_loss: 19038305.2942\n",
      "Epoch 129/200\n",
      "235652/235652 [==============================] - 9s 39us/sample - loss: 28223864.4958 - val_loss: 18940105.5725\n",
      "Epoch 130/200\n"
     ]
    },
    {
     "name": "stdout",
     "output_type": "stream",
     "text": [
      "235652/235652 [==============================] - 7s 31us/sample - loss: 28238545.2036 - val_loss: 18813151.4103\n",
      "Epoch 131/200\n",
      "235652/235652 [==============================] - 7s 30us/sample - loss: 28152559.1350 - val_loss: 19006466.0159\n",
      "Epoch 132/200\n",
      "235652/235652 [==============================] - 7s 31us/sample - loss: 28109517.1482 - val_loss: 18957123.0567\n",
      "Epoch 133/200\n",
      "235652/235652 [==============================] - 7s 31us/sample - loss: 28193839.3341 - val_loss: 18961461.5296\n",
      "Epoch 134/200\n",
      "235652/235652 [==============================] - 8s 33us/sample - loss: 28130840.6294 - val_loss: 18813512.3038\n",
      "Epoch 135/200\n",
      "235652/235652 [==============================] - 8s 34us/sample - loss: 28221244.3000 - val_loss: 19025862.8995\n",
      "Epoch 136/200\n",
      "235652/235652 [==============================] - 8s 32us/sample - loss: 28248012.6942 - val_loss: 18990423.9786\n",
      "Epoch 137/200\n",
      "235652/235652 [==============================] - 7s 32us/sample - loss: 28108456.0893 - val_loss: 18864862.4354\n",
      "Epoch 138/200\n",
      "235652/235652 [==============================] - 7s 32us/sample - loss: 28174837.2798 - val_loss: 18985270.5589\n",
      "Epoch 139/200\n",
      "235652/235652 [==============================] - 9s 39us/sample - loss: 28304448.7641 - val_loss: 19203522.0055\n",
      "Epoch 140/200\n",
      "235652/235652 [==============================] - 12s 53us/sample - loss: 28091068.1646 - val_loss: 18868053.6232\n",
      "Epoch 141/200\n",
      "235652/235652 [==============================] - 9s 40us/sample - loss: 28381999.3790 - val_loss: 18902059.0482\n",
      "Epoch 142/200\n",
      "235652/235652 [==============================] - 6s 24us/sample - loss: 28336044.6468 - val_loss: 18947598.7452\n",
      "Epoch 143/200\n",
      "235652/235652 [==============================] - 5s 20us/sample - loss: 28179515.1194 - val_loss: 18889145.1429\n",
      "Epoch 144/200\n",
      "235652/235652 [==============================] - 11s 48us/sample - loss: 28120148.6646 - val_loss: 19013181.5361\n",
      "Epoch 145/200\n",
      "235652/235652 [==============================] - 13s 53us/sample - loss: 28081461.7599 - val_loss: 19333425.3614\n",
      "Epoch 146/200\n",
      "235652/235652 [==============================] - 12s 51us/sample - loss: 27985690.2640 - val_loss: 18874337.6700\n",
      "Epoch 147/200\n",
      "235652/235652 [==============================] - 11s 48us/sample - loss: 27915418.2988 - val_loss: 18840227.1406\n",
      "Epoch 148/200\n",
      "235652/235652 [==============================] - 11s 45us/sample - loss: 28211852.5412 - val_loss: 18861806.6126\n",
      "Epoch 149/200\n",
      "235652/235652 [==============================] - 8s 35us/sample - loss: 28093305.6277 - val_loss: 18902467.1154\n",
      "Epoch 150/200\n",
      "235652/235652 [==============================] - 12s 52us/sample - loss: 28099623.9047 - val_loss: 18799675.0623\n",
      "Epoch 151/200\n",
      "235652/235652 [==============================] - 14s 61us/sample - loss: 28043689.1227 - val_loss: 18859170.0312\n",
      "Epoch 152/200\n",
      "235652/235652 [==============================] - 10s 44us/sample - loss: 28114394.3974 - val_loss: 18918650.7355\n",
      "Epoch 153/200\n",
      "235652/235652 [==============================] - 5s 23us/sample - loss: 28027402.6962 - val_loss: 18979199.7697\n",
      "Epoch 154/200\n",
      "235652/235652 [==============================] - 10s 42us/sample - loss: 27980152.7095 - val_loss: 18966543.5595\n",
      "Epoch 155/200\n",
      "235652/235652 [==============================] - 13s 55us/sample - loss: 28201670.9785 - val_loss: 18828671.8152\n",
      "Epoch 156/200\n",
      "235652/235652 [==============================] - 11s 46us/sample - loss: 28197467.1484 - val_loss: 18829943.1512\n",
      "Epoch 157/200\n",
      "235652/235652 [==============================] - 15s 62us/sample - loss: 28061988.0087 - val_loss: 18776957.5113\n",
      "Epoch 158/200\n",
      "235652/235652 [==============================] - 11s 49us/sample - loss: 28080570.9758 - val_loss: 18947890.8181\n",
      "Epoch 159/200\n",
      "235652/235652 [==============================] - 12s 51us/sample - loss: 28179454.2731 - val_loss: 18890828.4589\n",
      "Epoch 160/200\n",
      "235652/235652 [==============================] - 13s 56us/sample - loss: 27949930.9734 - val_loss: 18729964.7940\n",
      "Epoch 161/200\n",
      "235652/235652 [==============================] - 12s 50us/sample - loss: 28010841.0441 - val_loss: 18750240.8378\n",
      "Epoch 162/200\n",
      "235652/235652 [==============================] - 13s 57us/sample - loss: 27870981.2875 - val_loss: 18724010.0249\n",
      "Epoch 163/200\n",
      "235652/235652 [==============================] - 13s 55us/sample - loss: 28104746.6128 - val_loss: 18958239.4686\n",
      "Epoch 164/200\n",
      "235652/235652 [==============================] - 11s 45us/sample - loss: 27991253.4981 - val_loss: 18768197.7020\n",
      "Epoch 165/200\n",
      "235652/235652 [==============================] - 13s 54us/sample - loss: 28011181.6437 - val_loss: 19079609.0974\n",
      "Epoch 166/200\n",
      "235652/235652 [==============================] - 12s 50us/sample - loss: 27957039.3892 - val_loss: 19192763.0257\n",
      "Epoch 167/200\n",
      "235652/235652 [==============================] - 12s 49us/sample - loss: 27954917.4823 - val_loss: 18847501.8217\n",
      "Epoch 168/200\n",
      "235652/235652 [==============================] - 8s 35us/sample - loss: 27894074.2609 - val_loss: 18835315.8092\n",
      "Epoch 169/200\n",
      "235652/235652 [==============================] - 12s 50us/sample - loss: 27939216.8413 - val_loss: 19085931.7617\n",
      "Epoch 170/200\n",
      "235652/235652 [==============================] - 5s 22us/sample - loss: 27899903.4319 - val_loss: 18936989.5343\n",
      "Epoch 171/200\n",
      "235652/235652 [==============================] - 14s 59us/sample - loss: 27985941.4428 - val_loss: 18530563.6096\n",
      "Epoch 172/200\n",
      "235652/235652 [==============================] - 13s 56us/sample - loss: 28044156.0037 - val_loss: 18566560.7549\n",
      "Epoch 173/200\n",
      "235652/235652 [==============================] - 14s 61us/sample - loss: 28041240.1522 - val_loss: 18849529.5134\n",
      "Epoch 174/200\n",
      "235652/235652 [==============================] - 12s 50us/sample - loss: 27987201.9123 - val_loss: 18837573.3324\n",
      "Epoch 175/200\n",
      "235652/235652 [==============================] - 11s 45us/sample - loss: 28005917.6876 - val_loss: 18772705.7835\n",
      "Epoch 176/200\n",
      "235652/235652 [==============================] - 11s 46us/sample - loss: 27865449.5790 - val_loss: 18707866.8659\n",
      "Epoch 177/200\n",
      "235652/235652 [==============================] - 10s 41us/sample - loss: 27894051.7474 - val_loss: 18895919.4287\n",
      "Epoch 178/200\n",
      "235652/235652 [==============================] - 11s 47us/sample - loss: 27901134.1597 - val_loss: 18794622.9053\n",
      "Epoch 179/200\n",
      "235652/235652 [==============================] - 13s 56us/sample - loss: 28084818.4408 - val_loss: 18845545.6806 - los\n",
      "Epoch 180/200\n",
      "235652/235652 [==============================] - 13s 55us/sample - loss: 28016012.1614 - val_loss: 18799521.5028\n",
      "Epoch 181/200\n",
      "235652/235652 [==============================] - 10s 41us/sample - loss: 28053442.1626 - val_loss: 18601349.1557\n",
      "Epoch 182/200\n",
      "235652/235652 [==============================] - 14s 57us/sample - loss: 28118467.9594 - val_loss: 18708036.6121\n",
      "Epoch 183/200\n",
      "235652/235652 [==============================] - 14s 59us/sample - loss: 28023743.7124 - val_loss: 18747574.2818\n",
      "Epoch 184/200\n",
      "235652/235652 [==============================] - 13s 55us/sample - loss: 27841170.0153 - val_loss: 18759842.7234\n",
      "Epoch 185/200\n",
      "235652/235652 [==============================] - 13s 54us/sample - loss: 27875196.7993 - val_loss: 18710029.1624\n",
      "Epoch 186/200\n",
      "235652/235652 [==============================] - 14s 61us/sample - loss: 27944052.1997 - val_loss: 18620673.7454\n",
      "Epoch 187/200\n",
      "235652/235652 [==============================] - 13s 56us/sample - loss: 27994301.0465 - val_loss: 19068985.1249\n",
      "Epoch 188/200\n",
      "235652/235652 [==============================] - 14s 58us/sample - loss: 27758934.8412 - val_loss: 18716835.5751\n",
      "Epoch 189/200\n",
      "235652/235652 [==============================] - 13s 53us/sample - loss: 27817092.0746 - val_loss: 18610807.0092\n",
      "Epoch 190/200\n",
      "235652/235652 [==============================] - 13s 56us/sample - loss: 27954428.3041 - val_loss: 18988876.9323\n",
      "Epoch 191/200\n",
      "235652/235652 [==============================] - 13s 53us/sample - loss: 27874243.7840 - val_loss: 18986938.8393\n",
      "Epoch 192/200\n",
      "235652/235652 [==============================] - 11s 48us/sample - loss: 27792969.0240 - val_loss: 18660080.0246\n",
      "Epoch 193/200\n",
      "235652/235652 [==============================] - 12s 52us/sample - loss: 27810131.8674 - val_loss: 18794305.3837\n",
      "Epoch 194/200\n"
     ]
    },
    {
     "name": "stdout",
     "output_type": "stream",
     "text": [
      "235652/235652 [==============================] - 9s 37us/sample - loss: 27943519.9266 - val_loss: 18834171.1605\n",
      "Epoch 195/200\n",
      "235652/235652 [==============================] - 7s 32us/sample - loss: 27749550.1007 - val_loss: 18750137.0136\n",
      "Epoch 196/200\n",
      "235652/235652 [==============================] - 7s 31us/sample - loss: 27773572.8891 - val_loss: 18628403.7522\n",
      "Epoch 197/200\n",
      "235652/235652 [==============================] - 10s 42us/sample - loss: 27851625.9975 - val_loss: 18684432.5673\n",
      "Epoch 198/200\n",
      "235652/235652 [==============================] - 12s 52us/sample - loss: 27936290.7956 - val_loss: 18968523.9113\n",
      "Epoch 199/200\n",
      "235652/235652 [==============================] - 13s 56us/sample - loss: 27763887.0071 - val_loss: 18666786.5945\n",
      "Epoch 200/200\n",
      "235652/235652 [==============================] - 9s 36us/sample - loss: 27938615.5404 - val_loss: 19083809.7798\n"
     ]
    },
    {
     "data": {
      "text/plain": [
       "<tensorflow.python.keras.callbacks.History at 0x1cf53683988>"
      ]
     },
     "execution_count": 88,
     "metadata": {},
     "output_type": "execute_result"
    }
   ],
   "source": [
    "model.fit(x=X_train, \n",
    "          y=y_train, \n",
    "          epochs=200,\n",
    "          batch_size=512,\n",
    "          validation_data=(X_test, y_test), \n",
    "          )"
   ]
  },
  {
   "cell_type": "code",
   "execution_count": 89,
   "metadata": {},
   "outputs": [],
   "source": [
    "losses = pd.DataFrame(model.history.history)"
   ]
  },
  {
   "cell_type": "markdown",
   "metadata": {},
   "source": [
    "<b> Plotting loss vs val_loss:</b>"
   ]
  },
  {
   "cell_type": "code",
   "execution_count": 90,
   "metadata": {},
   "outputs": [
    {
     "data": {
      "text/plain": [
       "<matplotlib.axes._subplots.AxesSubplot at 0x1cf537ac548>"
      ]
     },
     "execution_count": 90,
     "metadata": {},
     "output_type": "execute_result"
    },
    {
     "data": {
      "image/png": "[encoded data removed]",
      "text/plain": [
       "<Figure size 432x288 with 1 Axes>"
      ]
     },
     "metadata": {
      "needs_background": "light"
     },
     "output_type": "display_data"
    }
   ],
   "source": [
    "losses[['loss','val_loss']].plot()"
   ]
  },
  {
   "cell_type": "code",
   "execution_count": 91,
   "metadata": {},
   "outputs": [],
   "source": [
    "predictions = model.predict(X_test)"
   ]
  },
  {
   "cell_type": "code",
   "execution_count": 92,
   "metadata": {},
   "outputs": [],
   "source": [
    "from sklearn.metrics import mean_squared_error,mean_absolute_error,explained_variance_score"
   ]
  },
  {
   "cell_type": "code",
   "execution_count": 93,
   "metadata": {},
   "outputs": [
    {
     "data": {
      "text/plain": [
       "2747.222888963304"
      ]
     },
     "execution_count": 93,
     "metadata": {},
     "output_type": "execute_result"
    }
   ],
   "source": [
    "mean_absolute_error(y_test,predictions)"
   ]
  },
  {
   "cell_type": "code",
   "execution_count": 94,
   "metadata": {},
   "outputs": [
    {
     "data": {
      "text/plain": [
       "14272.48669393852"
      ]
     },
     "execution_count": 94,
     "metadata": {},
     "output_type": "execute_result"
    }
   ],
   "source": [
    "cars_dataset['price'].mean()"
   ]
  },
  {
   "cell_type": "code",
   "execution_count": 95,
   "metadata": {},
   "outputs": [
    {
     "data": {
      "text/plain": [
       "0.8149174665128671"
      ]
     },
     "execution_count": 95,
     "metadata": {},
     "output_type": "execute_result"
    }
   ],
   "source": [
    "explained_variance_score(y_test,predictions)"
   ]
  },
  {
   "cell_type": "code",
   "execution_count": 96,
   "metadata": {},
   "outputs": [
    {
     "data": {
      "text/plain": [
       "[<matplotlib.lines.Line2D at 0x1cf537a9b88>]"
      ]
     },
     "execution_count": 96,
     "metadata": {},
     "output_type": "execute_result"
    },
    {
     "data": {
      "image/png": "[encoded data removed]",
      "text/plain": [
       "<Figure size 432x288 with 1 Axes>"
      ]
     },
     "metadata": {
      "needs_background": "light"
     },
     "output_type": "display_data"
    }
   ],
   "source": [
    "# Our predictions\n",
    "plt.scatter(y_test,predictions)\n",
    "\n",
    "# Perfect predictions\n",
    "plt.plot(y_test,y_test,'r')"
   ]
  },
  {
   "cell_type": "code",
   "execution_count": null,
   "metadata": {},
   "outputs": [],
   "source": []
  }
 ],
 "metadata": {
  "kernelspec": {
   "display_name": "Python 3",
   "language": "python",
   "name": "python3"
  },
  "language_info": {
   "codemirror_mode": {
    "name": "ipython",
    "version": 3
   },
   "file_extension": ".py",
   "mimetype": "text/x-python",
   "name": "python",
   "nbconvert_exporter": "python",
   "pygments_lexer": "ipython3",
   "version": "3.7.6"
  }
 },
 "nbformat": 4,
 "nbformat_minor": 4
}
